{
 "cells": [
  {
   "cell_type": "code",
   "execution_count": 1,
   "metadata": {
    "id": "EVZbTfBslbWa"
   },
   "outputs": [
    {
     "name": "stderr",
     "output_type": "stream",
     "text": [
      "/home/victor/codes/python_env/virtualenv/lib/python3.9/site-packages/tqdm/auto.py:22: TqdmWarning: IProgress not found. Please update jupyter and ipywidgets. See https://ipywidgets.readthedocs.io/en/stable/user_install.html\n",
      "  from .autonotebook import tqdm as notebook_tqdm\n"
     ]
    }
   ],
   "source": [
    "import os\n",
    "import torch\n",
    "import torch.nn as nn\n",
    "import torch.optim as optim\n",
    "import numpy as np\n",
    "from torchvision import datasets, transforms\n",
    "import matplotlib.pyplot as plt\n",
    "import torch.utils.data as data\n",
    "from PIL import Image"
   ]
  },
  {
   "cell_type": "code",
   "execution_count": 2,
   "metadata": {},
   "outputs": [
    {
     "name": "stdout",
     "output_type": "stream",
     "text": [
      "GPU is available with 1 device(s).\n",
      "Current GPU: NVIDIA GeForce GTX 1660\n"
     ]
    }
   ],
   "source": [
    "if torch.cuda.is_available():\n",
    "    # Get the number of available GPUs\n",
    "    num_gpus = torch.cuda.device_count()\n",
    "    print(f\"GPU is available with {num_gpus} device(s).\")\n",
    "    \n",
    "    # Get the name of the current GPU\n",
    "    current_gpu = torch.cuda.get_device_name(0)  # Assuming the first GPU is used\n",
    "    print(f\"Current GPU: {current_gpu}\")\n",
    "else:\n",
    "    print(\"GPU is not available. Using CPU.\")"
   ]
  },
  {
   "cell_type": "code",
   "execution_count": 3,
   "metadata": {},
   "outputs": [],
   "source": [
    "if torch.cuda.is_available():\n",
    "    device = torch.device(\"cuda\")  # Use the first available GPU\n",
    "else:\n",
    "    device = torch.device(\"cpu\")  # If no GPU is available, use CPU"
   ]
  },
  {
   "cell_type": "code",
   "execution_count": 105,
   "metadata": {},
   "outputs": [],
   "source": [
    "class SolarPanelDataset(data.Dataset):\n",
    "    def __init__(self, img_dir, image_shape=(3, 256, 256)):\n",
    "        self.image_shape = image_shape\n",
    "        self.img_dir = img_dir\n",
    "        self.labels = []\n",
    "        self.transform = transforms.Compose([\n",
    "            transforms.Resize((256, 256)),\n",
    "            transforms.ToTensor(),\n",
    "            transforms.Normalize(mean=[0.485, 0.456, 0.406], std=[0.229, 0.224, 0.225]),\n",
    "        ])\n",
    "        self.dataset_size = len(os.listdir(img_dir))\n",
    "        ds_size = int(self.dataset_size/15)\n",
    "        self.images = np.zeros((ds_size, *self.image_shape), dtype=np.float32)\n",
    "        for i, img_name in enumerate(os.listdir(img_dir)[0:ds_size]):\n",
    "            img_path = os.path.join(img_dir, img_name)\n",
    "            image = Image.open(img_path).convert(\"RGB\")\n",
    "            if self.transform:\n",
    "                image = self.transform(image)\n",
    "            self.images[i] = image/255.\n",
    "            label = img_name.split('_')[11]\n",
    "            self.labels.append(label)  # Add corresponding label here\n",
    "\n",
    "    def __len__(self):\n",
    "        return len(self.images)\n",
    "        \n",
    "    def __getitem__(self, idx):\n",
    "        image = self.images[idx]\n",
    "        return image"
   ]
  },
  {
   "cell_type": "code",
   "execution_count": 106,
   "metadata": {},
   "outputs": [],
   "source": [
    "dataset = SolarPanelDataset('/run/media/victor/victor/cv_project/SolarPanelSoilingImageDataset/Solar_Panel_Soiling_Image_dataset/PanelImages')\n"
   ]
  },
  {
   "cell_type": "code",
   "execution_count": 107,
   "metadata": {},
   "outputs": [
    {
     "data": {
      "text/plain": [
       "3050"
      ]
     },
     "execution_count": 107,
     "metadata": {},
     "output_type": "execute_result"
    }
   ],
   "source": [
    "len(dataset)"
   ]
  },
  {
   "cell_type": "code",
   "execution_count": 114,
   "metadata": {
    "colab": {
     "base_uri": "https://localhost:8080/"
    },
    "id": "HE6kkNrYml0R",
    "outputId": "8af4badd-1bd2-460d-8487-360b6ec41052"
   },
   "outputs": [],
   "source": [
    "#train_dataset = datasets.CIFAR10(root='./data', train=True, download=True, transform=transforms.ToTensor())\n",
    "train_dataloader = torch.utils.data.DataLoader(dataset, batch_size=32, shuffle=True)"
   ]
  },
  {
   "cell_type": "code",
   "execution_count": 115,
   "metadata": {
    "id": "c1LvPvV6le56"
   },
   "outputs": [],
   "source": [
    "class Autoencoder(nn.Module):\n",
    "    def __init__(self):\n",
    "        super(Autoencoder, self).__init__()\n",
    "\n",
    "        # Encoder\n",
    "        self.encoder = nn.Sequential(\n",
    "            nn.Conv2d(3, 32, 3, padding=1),\n",
    "            nn.ReLU(),\n",
    "            nn.Conv2d(32, 64, 3, padding=1),\n",
    "            nn.ReLU(),\n",
    "            nn.MaxPool2d(2, 2),\n",
    "        )\n",
    "\n",
    "        # Decoder\n",
    "        self.decoder = nn.Sequential(\n",
    "            nn.ConvTranspose2d(64, 32, 3, padding=1),\n",
    "            nn.ReLU(),\n",
    "            nn.Upsample(scale_factor=2),\n",
    "            nn.ConvTranspose2d(32, 3, 3, padding=1),\n",
    "            nn.Sigmoid(),\n",
    "        )\n",
    "\n",
    "    def forward(self, x):\n",
    "        # Encode the input image\n",
    "        encoded = self.encoder(x)\n",
    "\n",
    "        # Reconstruct the original image from the compressed representation\n",
    "        reconstructed = self.decoder(encoded)\n",
    "\n",
    "        return reconstructed"
   ]
  },
  {
   "cell_type": "code",
   "execution_count": 116,
   "metadata": {
    "id": "8rpJuShwm6wk"
   },
   "outputs": [],
   "source": [
    "autoencoder = Autoencoder()\n",
    "autoencoder = autoencoder.to(device)"
   ]
  },
  {
   "cell_type": "code",
   "execution_count": 117,
   "metadata": {
    "id": "0MzpTsnAmudz"
   },
   "outputs": [],
   "source": [
    "optimizer = optim.Adam(autoencoder.parameters(), lr=0.001)\n",
    "loss_function = nn.MSELoss()"
   ]
  },
  {
   "cell_type": "code",
   "execution_count": 118,
   "metadata": {
    "colab": {
     "base_uri": "https://localhost:8080/"
    },
    "id": "Ahlwrs_5oCq6",
    "outputId": "33aa85ba-fa67-4d1f-e978-54fca7131cb5"
   },
   "outputs": [
    {
     "data": {
      "text/plain": [
       "Autoencoder(\n",
       "  (encoder): Sequential(\n",
       "    (0): Conv2d(3, 32, kernel_size=(3, 3), stride=(1, 1), padding=(1, 1))\n",
       "    (1): ReLU()\n",
       "    (2): Conv2d(32, 64, kernel_size=(3, 3), stride=(1, 1), padding=(1, 1))\n",
       "    (3): ReLU()\n",
       "    (4): MaxPool2d(kernel_size=2, stride=2, padding=0, dilation=1, ceil_mode=False)\n",
       "  )\n",
       "  (decoder): Sequential(\n",
       "    (0): ConvTranspose2d(64, 32, kernel_size=(3, 3), stride=(1, 1), padding=(1, 1))\n",
       "    (1): ReLU()\n",
       "    (2): Upsample(scale_factor=2.0, mode='nearest')\n",
       "    (3): ConvTranspose2d(32, 3, kernel_size=(3, 3), stride=(1, 1), padding=(1, 1))\n",
       "    (4): Sigmoid()\n",
       "  )\n",
       ")"
      ]
     },
     "execution_count": 118,
     "metadata": {},
     "output_type": "execute_result"
    }
   ],
   "source": [
    "autoencoder.train()"
   ]
  },
  {
   "cell_type": "code",
   "execution_count": 120,
   "metadata": {
    "colab": {
     "base_uri": "https://localhost:8080/"
    },
    "id": "wfeL_8pymy_e",
    "outputId": "99a48014-be10-467c-9829-8ed567ede2c6"
   },
   "outputs": [
    {
     "name": "stdout",
     "output_type": "stream",
     "text": [
      "aaa\n",
      "bbb\n",
      "Epoch: 0/10, Iteration: 0/96 Loss: 1.028418046189472e-05\n",
      "aaa\n",
      "bbb\n",
      "aaa\n",
      "bbb\n",
      "aaa\n",
      "bbb\n",
      "aaa\n",
      "bbb\n",
      "aaa\n",
      "bbb\n",
      "aaa\n",
      "bbb\n",
      "aaa\n",
      "bbb\n",
      "aaa\n",
      "bbb\n",
      "aaa\n",
      "bbb\n",
      "aaa\n",
      "bbb\n",
      "aaa\n",
      "bbb\n",
      "aaa\n",
      "bbb\n",
      "aaa\n",
      "bbb\n",
      "aaa\n",
      "bbb\n",
      "aaa\n",
      "bbb\n",
      "aaa\n",
      "bbb\n",
      "aaa\n",
      "bbb\n",
      "aaa\n",
      "bbb\n",
      "aaa\n",
      "bbb\n",
      "aaa\n",
      "bbb\n",
      "aaa\n",
      "bbb\n",
      "aaa\n",
      "bbb\n",
      "aaa\n",
      "bbb\n",
      "aaa\n",
      "bbb\n",
      "aaa\n",
      "bbb\n",
      "aaa\n",
      "bbb\n",
      "aaa\n",
      "bbb\n",
      "aaa\n",
      "bbb\n",
      "aaa\n",
      "bbb\n",
      "aaa\n",
      "bbb\n",
      "aaa\n",
      "bbb\n",
      "aaa\n",
      "bbb\n",
      "aaa\n",
      "bbb\n",
      "aaa\n",
      "bbb\n",
      "aaa\n",
      "bbb\n",
      "aaa\n",
      "bbb\n",
      "aaa\n",
      "bbb\n",
      "aaa\n",
      "bbb\n",
      "aaa\n",
      "bbb\n",
      "aaa\n",
      "bbb\n",
      "aaa\n",
      "bbb\n",
      "aaa\n",
      "bbb\n",
      "aaa\n",
      "bbb\n",
      "aaa\n",
      "bbb\n",
      "aaa\n",
      "bbb\n",
      "aaa\n",
      "bbb\n",
      "aaa\n",
      "bbb\n",
      "aaa\n",
      "bbb\n",
      "aaa\n",
      "bbb\n",
      "aaa\n",
      "bbb\n",
      "aaa\n",
      "bbb\n",
      "aaa\n",
      "bbb\n",
      "aaa\n",
      "bbb\n",
      "aaa\n",
      "bbb\n",
      "aaa\n",
      "bbb\n",
      "aaa\n",
      "bbb\n",
      "aaa\n",
      "bbb\n",
      "aaa\n",
      "bbb\n",
      "aaa\n",
      "bbb\n",
      "aaa\n",
      "bbb\n",
      "aaa\n",
      "bbb\n",
      "aaa\n",
      "bbb\n",
      "aaa\n",
      "bbb\n",
      "aaa\n",
      "bbb\n",
      "aaa\n",
      "bbb\n",
      "aaa\n",
      "bbb\n",
      "aaa\n",
      "bbb\n",
      "aaa\n",
      "bbb\n",
      "aaa\n",
      "bbb\n",
      "aaa\n",
      "bbb\n",
      "aaa\n",
      "bbb\n",
      "aaa\n",
      "bbb\n",
      "aaa\n",
      "bbb\n",
      "aaa\n",
      "bbb\n",
      "aaa\n",
      "bbb\n",
      "aaa\n",
      "bbb\n",
      "aaa\n",
      "bbb\n",
      "aaa\n",
      "bbb\n",
      "aaa\n",
      "bbb\n",
      "aaa\n",
      "bbb\n",
      "aaa\n",
      "bbb\n",
      "aaa\n",
      "bbb\n",
      "aaa\n",
      "bbb\n",
      "aaa\n",
      "bbb\n",
      "aaa\n",
      "bbb\n",
      "aaa\n",
      "bbb\n",
      "aaa\n",
      "bbb\n",
      "aaa\n",
      "bbb\n",
      "aaa\n",
      "bbb\n",
      "aaa\n",
      "bbb\n",
      "aaa\n",
      "bbb\n",
      "aaa\n",
      "bbb\n",
      "aaa\n",
      "bbb\n",
      "aaa\n",
      "bbb\n",
      "aaa\n",
      "bbb\n"
     ]
    }
   ],
   "source": [
    "for epoch in range(1):\n",
    "    for i, images in enumerate(train_dataloader):\n",
    "\n",
    "        images = images.to(device)\n",
    "        # Reconstruct the images\n",
    "        reconstructions = autoencoder(images)\n",
    "\n",
    "        # Calculate the loss\n",
    "        loss = loss_function(reconstructions, images)\n",
    "\n",
    "        print('aaa')\n",
    "        # Optimize the model\n",
    "        optimizer.zero_grad()\n",
    "        loss.backward()\n",
    "        optimizer.step()\n",
    "        print('bbb')\n",
    "\n",
    "        # Print the loss\n",
    "        if i % 100 == 0:\n",
    "            print('Epoch: {}/10, Iteration: {}/{} Loss: {}'.format(epoch, i, len(train_dataloader), loss.item()))"
   ]
  },
  {
   "cell_type": "code",
   "execution_count": 29,
   "metadata": {
    "colab": {
     "base_uri": "https://localhost:8080/"
    },
    "id": "XtQyzkNenEvW",
    "outputId": "bff3c965-ce31-4cb0-d6f5-e005051dca7c"
   },
   "outputs": [
    {
     "name": "stdout",
     "output_type": "stream",
     "text": [
      "Files already downloaded and verified\n"
     ]
    }
   ],
   "source": [
    "test_dataset = datasets.CIFAR10(root='./data', train=False, download=True, transform=transforms.ToTensor())"
   ]
  },
  {
   "cell_type": "code",
   "execution_count": 30,
   "metadata": {
    "colab": {
     "base_uri": "https://localhost:8080/"
    },
    "id": "OCrcunjEoPrL",
    "outputId": "b23457ff-efc0-405e-a754-758beb1dc16b"
   },
   "outputs": [
    {
     "data": {
      "text/plain": [
       "Autoencoder(\n",
       "  (encoder): Sequential(\n",
       "    (0): Conv2d(3, 32, kernel_size=(3, 3), stride=(1, 1), padding=(1, 1))\n",
       "    (1): ReLU()\n",
       "    (2): Conv2d(32, 64, kernel_size=(3, 3), stride=(1, 1), padding=(1, 1))\n",
       "    (3): ReLU()\n",
       "    (4): MaxPool2d(kernel_size=2, stride=2, padding=0, dilation=1, ceil_mode=False)\n",
       "  )\n",
       "  (decoder): Sequential(\n",
       "    (0): ConvTranspose2d(64, 32, kernel_size=(3, 3), stride=(1, 1), padding=(1, 1))\n",
       "    (1): ReLU()\n",
       "    (2): Upsample(scale_factor=2.0, mode='nearest')\n",
       "    (3): ConvTranspose2d(32, 3, kernel_size=(3, 3), stride=(1, 1), padding=(1, 1))\n",
       "    (4): Sigmoid()\n",
       "  )\n",
       ")"
      ]
     },
     "execution_count": 30,
     "metadata": {},
     "output_type": "execute_result"
    }
   ],
   "source": [
    "autoencoder.eval()"
   ]
  },
  {
   "cell_type": "code",
   "execution_count": 31,
   "metadata": {
    "id": "YKmpdLU4obYj"
   },
   "outputs": [],
   "source": [
    "test_dataloader = torch.utils.data.DataLoader(test_dataset, batch_size=32, shuffle=True)"
   ]
  },
  {
   "cell_type": "code",
   "execution_count": 32,
   "metadata": {
    "id": "6JXgARz6o2qj"
   },
   "outputs": [],
   "source": [
    "for test_batch, _ in test_dataloader:\n",
    "    test_batch = test_batch.to(device)\n",
    "    predicted_image_batch = autoencoder(test_batch)\n",
    "    encoded_batch = autoencoder.encoder(test_batch)\n",
    "    break"
   ]
  },
  {
   "cell_type": "code",
   "execution_count": 33,
   "metadata": {
    "id": "iIKHssGLogv5"
   },
   "outputs": [],
   "source": [
    "\n",
    "def tensor_to_image(tensor):\n",
    "\n",
    "    \"\"\"\n",
    "    Converts a tensor to an image.\n",
    "\n",
    "    Args:\n",
    "        tensor: A tensor of shape (C, H, W).\n",
    "\n",
    "    Returns:\n",
    "        An image.\n",
    "    \"\"\"\n",
    "\n",
    "    image = tensor.cpu().detach().numpy()\n",
    "    image = image.transpose(1, 2, 0)  # Convert from (C, H, W) to (H, W, C)\n",
    "    image = (image * 255).astype('uint8')  # Convert pixel values from [0, 1] to [0, 255]\n",
    "\n",
    "    return image\n"
   ]
  },
  {
   "cell_type": "code",
   "execution_count": 34,
   "metadata": {
    "colab": {
     "base_uri": "https://localhost:8080/"
    },
    "id": "NAZMTn-isABI",
    "outputId": "d8612fc6-b2ce-442b-bd89-92ee187aaa89"
   },
   "outputs": [
    {
     "data": {
      "text/plain": [
       "torch.Size([3, 32, 32])"
      ]
     },
     "execution_count": 34,
     "metadata": {},
     "output_type": "execute_result"
    }
   ],
   "source": [
    "predicted_image_batch[0].size()"
   ]
  },
  {
   "cell_type": "code",
   "execution_count": 35,
   "metadata": {
    "colab": {
     "base_uri": "https://localhost:8080/"
    },
    "id": "qhbMCy8EroRo",
    "outputId": "adea34e4-abf8-4398-f591-4e9138d87e41"
   },
   "outputs": [
    {
     "data": {
      "text/plain": [
       "torch.Size([1, 16, 16])"
      ]
     },
     "execution_count": 35,
     "metadata": {},
     "output_type": "execute_result"
    }
   ],
   "source": [
    "torch.mean(encoded_batch[2].transpose(0, 1).transpose(0,2),dim=1).unsqueeze(0).size()"
   ]
  },
  {
   "cell_type": "code",
   "execution_count": 36,
   "metadata": {
    "colab": {
     "base_uri": "https://localhost:8080/",
     "height": 140
    },
    "id": "EuFYpVL-qxRa",
    "outputId": "5afd9947-bb4f-487c-9bf8-d368f594d7f6"
   },
   "outputs": [
    {
     "data": {
      "image/png": "[encoded data removed]",
      "text/plain": [
       "<Figure size 72x72 with 1 Axes>"
      ]
     },
     "metadata": {
      "needs_background": "light"
     },
     "output_type": "display_data"
    }
   ],
   "source": [
    "plt.figure(figsize=(1, 1))\n",
    "plt.imshow(tensor_to_image(torch.mean(encoded_batch[5].transpose(0, 1).transpose(0,2),dim=1).unsqueeze(0)))\n",
    "plt.show()"
   ]
  },
  {
   "cell_type": "code",
   "execution_count": 42,
   "metadata": {
    "colab": {
     "base_uri": "https://localhost:8080/",
     "height": 142
    },
    "id": "nNbf9tYvojl-",
    "outputId": "172ece9d-14dc-4ca3-92b8-40a8e017e2ef"
   },
   "outputs": [
    {
     "data": {
      "image/png": "[encoded data removed]",
      "text/plain": [
       "<Figure size 72x72 with 1 Axes>"
      ]
     },
     "metadata": {
      "needs_background": "light"
     },
     "output_type": "display_data"
    }
   ],
   "source": [
    "plt.figure(figsize=(1, 1))\n",
    "plt.imshow(tensor_to_image(predicted_image_batch[3]))\n",
    "plt.show()"
   ]
  },
  {
   "cell_type": "code",
   "execution_count": 41,
   "metadata": {
    "colab": {
     "base_uri": "https://localhost:8080/",
     "height": 142
    },
    "id": "YQ6EDTELpkZg",
    "outputId": "da2684c4-d268-4f65-a360-78bc2186d36f"
   },
   "outputs": [
    {
     "data": {
      "image/png": "[encoded data removed]",
      "text/plain": [
       "<Figure size 72x72 with 1 Axes>"
      ]
     },
     "metadata": {
      "needs_background": "light"
     },
     "output_type": "display_data"
    }
   ],
   "source": [
    "plt.figure(figsize=(1, 1))\n",
    "plt.imshow(tensor_to_image(test_batch[3]))\n",
    "plt.show()"
   ]
  },
  {
   "cell_type": "code",
   "execution_count": null,
   "metadata": {
    "id": "1vYUgNJypt8t"
   },
   "outputs": [],
   "source": []
  }
 ],
 "metadata": {
  "accelerator": "GPU",
  "colab": {
   "gpuType": "T4",
   "provenance": []
  },
  "kernelspec": {
   "display_name": "Python 3 (ipykernel)",
   "language": "python",
   "name": "python3"
  },
  "language_info": {
   "codemirror_mode": {
    "name": "ipython",
    "version": 3
   },
   "file_extension": ".py",
   "mimetype": "text/x-python",
   "name": "python",
   "nbconvert_exporter": "python",
   "pygments_lexer": "ipython3",
   "version": "3.9.12"
  }
 },
 "nbformat": 4,
 "nbformat_minor": 4
}
