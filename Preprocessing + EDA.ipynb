{
 "cells": [
  {
   "cell_type": "markdown",
   "metadata": {},
   "source": [
    "### Imports"
   ]
  },
  {
   "cell_type": "code",
   "execution_count": 1,
   "metadata": {
    "collapsed": true,
    "ExecuteTime": {
     "end_time": "2023-12-04T15:13:16.299404600Z",
     "start_time": "2023-12-04T15:13:14.751713300Z"
    }
   },
   "outputs": [],
   "source": [
    "import os\n",
    "import pandas as pd\n",
    "from matplotlib import pyplot as plt\n",
    "import numpy as np\n",
    "import shutil\n",
    "from PIL import Image\n",
    "from sklearn.preprocessing import LabelEncoder\n"
   ]
  },
  {
   "cell_type": "markdown",
   "metadata": {},
   "source": [
    "#### Data Directory\n"
   ]
  },
  {
   "cell_type": "code",
   "execution_count": 2,
   "metadata": {
    "ExecuteTime": {
     "end_time": "2023-12-04T14:43:34.725539700Z",
     "start_time": "2023-12-04T14:43:34.586225300Z"
    }
   },
   "outputs": [
    {
     "data": {
      "text/plain": "['solar_Fri_Jun_16_10__0__11_2017_L_0.906153208302_I_0.321592156863.jpg',\n 'solar_Fri_Jun_16_10__0__16_2017_L_0.903081697073_I_0.293192156863.jpg',\n 'solar_Fri_Jun_16_10__0__1_2017_L_0.916698044034_I_0.39577254902.jpg',\n 'solar_Fri_Jun_16_10__0__21_2017_L_0.903081697073_I_0.293192156863.jpg',\n 'solar_Fri_Jun_16_10__0__26_2017_L_0.896087391118_I_0.27462745098.jpg',\n 'solar_Fri_Jun_16_10__0__31_2017_L_0.896087391118_I_0.27462745098.jpg',\n 'solar_Fri_Jun_16_10__0__36_2017_L_0.894974574172_I_0.269141176471.jpg',\n 'solar_Fri_Jun_16_10__0__41_2017_L_0.894974574172_I_0.269141176471.jpg',\n 'solar_Fri_Jun_16_10__0__46_2017_L_0.890988502987_I_0.261278431373.jpg',\n 'solar_Fri_Jun_16_10__0__51_2017_L_0.890988502987_I_0.261278431373.jpg']"
     },
     "execution_count": 2,
     "metadata": {},
     "output_type": "execute_result"
    }
   ],
   "source": [
    "# folder path\n",
    "data_folder = 'SolarPanelSoilingImageDataset\\PanelImages/'\n",
    "\n",
    "files = os.listdir(data_folder)\n",
    "\n",
    "files[0:10]\n"
   ]
  },
  {
   "cell_type": "code",
   "execution_count": 4,
   "outputs": [
    {
     "data": {
      "text/plain": "45754"
     },
     "execution_count": 4,
     "metadata": {},
     "output_type": "execute_result"
    }
   ],
   "source": [
    "len(files)"
   ],
   "metadata": {
    "collapsed": false,
    "ExecuteTime": {
     "end_time": "2023-12-04T00:15:40.171767600Z",
     "start_time": "2023-12-04T00:15:40.150991500Z"
    }
   }
  },
  {
   "cell_type": "markdown",
   "metadata": {},
   "source": [
    "### Preprocessing\n",
    "\n",
    "#### Breaking down string into time component columns\n"
   ]
  },
  {
   "cell_type": "code",
   "execution_count": 5,
   "outputs": [],
   "source": [
    "examples = []\n",
    "for file in files:\n",
    "    parts = file.split('_')\n",
    "    solar_data = {\n",
    "        'type': parts[0], # 'solar'\n",
    "        'day_of_week': parts[1], # day of the week\n",
    "        'month': parts[2],\n",
    "        'day': parts[3], # day\n",
    "        'hour': parts[4], # hout\n",
    "        'minute': parts[6], # minute\n",
    "        'second': parts[8], # second\n",
    "        'year': parts[9], # 'year'\n",
    "        'loss_percentage': parts[11], # 'ageloss' with 'L%' removed\n",
    "        'irradiance_level': parts[13][0:-4], # 'irradiancelevel' with 'I' removed\n",
    "        'original_title': file,\n",
    "    }\n",
    "    examples.append(solar_data)\n",
    "\n",
    "df = pd.DataFrame(examples)"
   ],
   "metadata": {
    "collapsed": false,
    "ExecuteTime": {
     "end_time": "2023-12-04T00:15:42.243034600Z",
     "start_time": "2023-12-04T00:15:41.968756200Z"
    }
   }
  },
  {
   "cell_type": "code",
   "execution_count": 6,
   "metadata": {
    "ExecuteTime": {
     "end_time": "2023-12-04T00:15:43.257680300Z",
     "start_time": "2023-12-04T00:15:43.199485600Z"
    }
   },
   "outputs": [
    {
     "data": {
      "text/plain": "        type day_of_week month day hour minute second  year  loss_percentage  \\\n0      solar         Fri   Jun  16   10      0     11  2017   0.906153208302   \n1      solar         Fri   Jun  16   10      0     16  2017   0.903081697073   \n2      solar         Fri   Jun  16   10      0      1  2017   0.916698044034   \n3      solar         Fri   Jun  16   10      0     21  2017   0.903081697073   \n4      solar         Fri   Jun  16   10      0     26  2017   0.896087391118   \n...      ...         ...   ...  ..  ...    ...    ...   ...              ...   \n45749  solar         Wed   Jun  28    7      9     44  2017  0.0067850003029   \n45750  solar         Wed   Jun  28    7      9     49  2017  0.0067850003029   \n45751  solar         Wed   Jun  28    7      9     54  2017  0.0210669184468   \n45752  solar         Wed   Jun  28    7      9     59  2017  0.0210669184468   \n45753  solar         Wed   Jun  28    7      9      8  2017  0.0227286802502   \n\n      irradiance_level                                     original_title  \n0       0.321592156863  solar_Fri_Jun_16_10__0__11_2017_L_0.9061532083...  \n1       0.293192156863  solar_Fri_Jun_16_10__0__16_2017_L_0.9030816970...  \n2        0.39577254902  solar_Fri_Jun_16_10__0__1_2017_L_0.91669804403...  \n3       0.293192156863  solar_Fri_Jun_16_10__0__21_2017_L_0.9030816970...  \n4        0.27462745098  solar_Fri_Jun_16_10__0__26_2017_L_0.8960873911...  \n...                ...                                                ...  \n45749  0.0647333333333  solar_Wed_Jun_28_7__9__44_2017_L_0.00678500030...  \n45750  0.0647333333333  solar_Wed_Jun_28_7__9__49_2017_L_0.00678500030...  \n45751  0.0664549019608  solar_Wed_Jun_28_7__9__54_2017_L_0.02106691844...  \n45752  0.0664549019608  solar_Wed_Jun_28_7__9__59_2017_L_0.02106691844...  \n45753  0.0633215686275  solar_Wed_Jun_28_7__9__8_2017_L_0.022728680250...  \n\n[45754 rows x 11 columns]",
      "text/html": "<div>\n<style scoped>\n    .dataframe tbody tr th:only-of-type {\n        vertical-align: middle;\n    }\n\n    .dataframe tbody tr th {\n        vertical-align: top;\n    }\n\n    .dataframe thead th {\n        text-align: right;\n    }\n</style>\n<table border=\"1\" class=\"dataframe\">\n  <thead>\n    <tr style=\"text-align: right;\">\n      <th></th>\n      <th>type</th>\n      <th>day_of_week</th>\n      <th>month</th>\n      <th>day</th>\n      <th>hour</th>\n      <th>minute</th>\n      <th>second</th>\n      <th>year</th>\n      <th>loss_percentage</th>\n      <th>irradiance_level</th>\n      <th>original_title</th>\n    </tr>\n  </thead>\n  <tbody>\n    <tr>\n      <th>0</th>\n      <td>solar</td>\n      <td>Fri</td>\n      <td>Jun</td>\n      <td>16</td>\n      <td>10</td>\n      <td>0</td>\n      <td>11</td>\n      <td>2017</td>\n      <td>0.906153208302</td>\n      <td>0.321592156863</td>\n      <td>solar_Fri_Jun_16_10__0__11_2017_L_0.9061532083...</td>\n    </tr>\n    <tr>\n      <th>1</th>\n      <td>solar</td>\n      <td>Fri</td>\n      <td>Jun</td>\n      <td>16</td>\n      <td>10</td>\n      <td>0</td>\n      <td>16</td>\n      <td>2017</td>\n      <td>0.903081697073</td>\n      <td>0.293192156863</td>\n      <td>solar_Fri_Jun_16_10__0__16_2017_L_0.9030816970...</td>\n    </tr>\n    <tr>\n      <th>2</th>\n      <td>solar</td>\n      <td>Fri</td>\n      <td>Jun</td>\n      <td>16</td>\n      <td>10</td>\n      <td>0</td>\n      <td>1</td>\n      <td>2017</td>\n      <td>0.916698044034</td>\n      <td>0.39577254902</td>\n      <td>solar_Fri_Jun_16_10__0__1_2017_L_0.91669804403...</td>\n    </tr>\n    <tr>\n      <th>3</th>\n      <td>solar</td>\n      <td>Fri</td>\n      <td>Jun</td>\n      <td>16</td>\n      <td>10</td>\n      <td>0</td>\n      <td>21</td>\n      <td>2017</td>\n      <td>0.903081697073</td>\n      <td>0.293192156863</td>\n      <td>solar_Fri_Jun_16_10__0__21_2017_L_0.9030816970...</td>\n    </tr>\n    <tr>\n      <th>4</th>\n      <td>solar</td>\n      <td>Fri</td>\n      <td>Jun</td>\n      <td>16</td>\n      <td>10</td>\n      <td>0</td>\n      <td>26</td>\n      <td>2017</td>\n      <td>0.896087391118</td>\n      <td>0.27462745098</td>\n      <td>solar_Fri_Jun_16_10__0__26_2017_L_0.8960873911...</td>\n    </tr>\n    <tr>\n      <th>...</th>\n      <td>...</td>\n      <td>...</td>\n      <td>...</td>\n      <td>...</td>\n      <td>...</td>\n      <td>...</td>\n      <td>...</td>\n      <td>...</td>\n      <td>...</td>\n      <td>...</td>\n      <td>...</td>\n    </tr>\n    <tr>\n      <th>45749</th>\n      <td>solar</td>\n      <td>Wed</td>\n      <td>Jun</td>\n      <td>28</td>\n      <td>7</td>\n      <td>9</td>\n      <td>44</td>\n      <td>2017</td>\n      <td>0.0067850003029</td>\n      <td>0.0647333333333</td>\n      <td>solar_Wed_Jun_28_7__9__44_2017_L_0.00678500030...</td>\n    </tr>\n    <tr>\n      <th>45750</th>\n      <td>solar</td>\n      <td>Wed</td>\n      <td>Jun</td>\n      <td>28</td>\n      <td>7</td>\n      <td>9</td>\n      <td>49</td>\n      <td>2017</td>\n      <td>0.0067850003029</td>\n      <td>0.0647333333333</td>\n      <td>solar_Wed_Jun_28_7__9__49_2017_L_0.00678500030...</td>\n    </tr>\n    <tr>\n      <th>45751</th>\n      <td>solar</td>\n      <td>Wed</td>\n      <td>Jun</td>\n      <td>28</td>\n      <td>7</td>\n      <td>9</td>\n      <td>54</td>\n      <td>2017</td>\n      <td>0.0210669184468</td>\n      <td>0.0664549019608</td>\n      <td>solar_Wed_Jun_28_7__9__54_2017_L_0.02106691844...</td>\n    </tr>\n    <tr>\n      <th>45752</th>\n      <td>solar</td>\n      <td>Wed</td>\n      <td>Jun</td>\n      <td>28</td>\n      <td>7</td>\n      <td>9</td>\n      <td>59</td>\n      <td>2017</td>\n      <td>0.0210669184468</td>\n      <td>0.0664549019608</td>\n      <td>solar_Wed_Jun_28_7__9__59_2017_L_0.02106691844...</td>\n    </tr>\n    <tr>\n      <th>45753</th>\n      <td>solar</td>\n      <td>Wed</td>\n      <td>Jun</td>\n      <td>28</td>\n      <td>7</td>\n      <td>9</td>\n      <td>8</td>\n      <td>2017</td>\n      <td>0.0227286802502</td>\n      <td>0.0633215686275</td>\n      <td>solar_Wed_Jun_28_7__9__8_2017_L_0.022728680250...</td>\n    </tr>\n  </tbody>\n</table>\n<p>45754 rows × 11 columns</p>\n</div>"
     },
     "execution_count": 6,
     "metadata": {},
     "output_type": "execute_result"
    }
   ],
   "source": [
    "df"
   ]
  },
  {
   "cell_type": "markdown",
   "metadata": {},
   "source": [
    "#### Drop unnecessary Columns"
   ]
  },
  {
   "cell_type": "code",
   "execution_count": 7,
   "metadata": {
    "ExecuteTime": {
     "end_time": "2023-12-04T00:15:44.776060Z",
     "start_time": "2023-12-04T00:15:44.697868500Z"
    }
   },
   "outputs": [],
   "source": [
    "# List of columns to drop\n",
    "columns_to_drop = ['type', 'day_of_week']\n",
    "\n",
    "# Dropping the specified columns\n",
    "df = df.drop(columns=columns_to_drop)"
   ]
  },
  {
   "cell_type": "markdown",
   "metadata": {},
   "source": [
    "#### Month Mapping"
   ]
  },
  {
   "cell_type": "code",
   "execution_count": 8,
   "metadata": {
    "ExecuteTime": {
     "end_time": "2023-12-04T00:15:45.787900900Z",
     "start_time": "2023-12-04T00:15:45.681542500Z"
    }
   },
   "outputs": [],
   "source": [
    "# Month name to numerical mapping\n",
    "month_mapping = {\n",
    "    'Jan': 1, 'Feb': 2, 'Mar': 3, 'Apr': 4,\n",
    "    'May': 5, 'Jun': 6, 'Jul': 7, 'Aug': 8,\n",
    "    'Sep': 9, 'Oct': 10, 'Nov': 11, 'Dec': 12\n",
    "}\n",
    "\n",
    "df['month'] = df['month'].map(month_mapping)\n"
   ]
  },
  {
   "cell_type": "markdown",
   "metadata": {},
   "source": [
    "#### Convert dtypes to numeric"
   ]
  },
  {
   "cell_type": "code",
   "execution_count": 9,
   "metadata": {
    "ExecuteTime": {
     "end_time": "2023-12-04T00:15:47.671201200Z",
     "start_time": "2023-12-04T00:15:46.769300100Z"
    }
   },
   "outputs": [],
   "source": [
    "columns_to_convert = ['day', 'hour', 'minute', 'second', 'year', 'loss_percentage', 'irradiance_level']\n",
    "\n",
    "# Loop through each column and convert to numeric\n",
    "for column in columns_to_convert:\n",
    "    df[column] = pd.to_numeric(df[column], errors='coerce')\n"
   ]
  },
  {
   "cell_type": "markdown",
   "metadata": {},
   "source": [
    "### Visualizations"
   ]
  },
  {
   "cell_type": "markdown",
   "metadata": {},
   "source": [
    "#### Max Value and minimum value Per atribute\n"
   ]
  },
  {
   "cell_type": "code",
   "execution_count": 10,
   "metadata": {
    "ExecuteTime": {
     "end_time": "2023-12-04T00:15:50.782285300Z",
     "start_time": "2023-12-04T00:15:50.765093400Z"
    }
   },
   "outputs": [
    {
     "name": "stdout",
     "output_type": "stream",
     "text": [
      "Max Loss Percentage: 0.996158869171\n",
      "Min Loss Percentage: 0.0\n",
      "Max Irradiance Level: 1.0061254902\n",
      "Min Irradiance Level: 0.00268235294118\n"
     ]
    }
   ],
   "source": [
    "max_loss_percentage = df['loss_percentage'].max()\n",
    "min_loss_percentage = df['loss_percentage'].min()\n",
    "\n",
    "max_irradiance_level = df['irradiance_level'].max()\n",
    "min_irradiance_level = df['irradiance_level'].min()\n",
    "\n",
    "print(\"Max Loss Percentage:\", max_loss_percentage)\n",
    "print(\"Min Loss Percentage:\", min_loss_percentage)\n",
    "print(\"Max Irradiance Level:\", max_irradiance_level)\n",
    "print(\"Min Irradiance Level:\", min_irradiance_level)"
   ]
  },
  {
   "cell_type": "markdown",
   "metadata": {},
   "source": [
    "#### Distribution of the target variable"
   ]
  },
  {
   "cell_type": "code",
   "execution_count": 11,
   "metadata": {
    "ExecuteTime": {
     "end_time": "2023-12-04T00:15:53.420090200Z",
     "start_time": "2023-12-04T00:15:52.694606400Z"
    }
   },
   "outputs": [
    {
     "data": {
      "text/plain": "<Figure size 640x480 with 1 Axes>",
      "image/png": "[encoded data removed]"
     },
     "metadata": {},
     "output_type": "display_data"
    },
    {
     "name": "stdout",
     "output_type": "stream",
     "text": [
      "Bin 0.0 - 0.1: 20523 counts\n",
      "Bin 0.1 - 0.2: 7014 counts\n",
      "Bin 0.2 - 0.3: 2045 counts\n",
      "Bin 0.3 - 0.4: 2799 counts\n",
      "Bin 0.4 - 0.5: 1542 counts\n",
      "Bin 0.5 - 0.6: 2232 counts\n",
      "Bin 0.6 - 0.7: 4899 counts\n",
      "Bin 0.7 - 0.8: 1671 counts\n",
      "Bin 0.8 - 0.9: 2369 counts\n",
      "Bin 0.9 - 1.0: 660 counts\n"
     ]
    }
   ],
   "source": [
    "# Set the bin width\n",
    "bin_width = 0.1\n",
    "\n",
    "# Create bins from 0 to 1 with a step of bin_width\n",
    "bins = np.arange(0, 1.1, bin_width)\n",
    "\n",
    "# Count occurrences in each bin\n",
    "hist, bin_edges = np.histogram(df['loss_percentage'], bins=bins)\n",
    "\n",
    "# Visualize the histogram\n",
    "plt.bar(bins[:-1], hist, width=bin_width, align='edge', edgecolor='black')\n",
    "plt.xlabel('Loss Percentage Bins')\n",
    "plt.ylabel('Count')\n",
    "plt.title('Histogram of Loss Percentages')\n",
    "plt.show()\n",
    "\n",
    "# Display the results\n",
    "for i in range(len(hist)):\n",
    "    print(f\"Bin {bins[i]:.1f} - {bins[i+1]:.1f}: {hist[i]} counts\")"
   ]
  },
  {
   "cell_type": "code",
   "execution_count": 12,
   "metadata": {
    "ExecuteTime": {
     "end_time": "2023-12-04T00:15:55.464344200Z",
     "start_time": "2023-12-04T00:15:54.222401300Z"
    }
   },
   "outputs": [
    {
     "data": {
      "text/plain": "<Figure size 1000x1000 with 3 Axes>",
      "image/png": "[encoded data removed]"
     },
     "metadata": {},
     "output_type": "display_data"
    }
   ],
   "source": [
    "month_bin_width = 1\n",
    "day_bin_width = 1\n",
    "hour_bin_width = 1\n",
    "\n",
    "# Create histograms for month, day, and hour\n",
    "fig, axes = plt.subplots(nrows=3, ncols=1, figsize=(10, 10))\n",
    "\n",
    "\n",
    "\n",
    "# Day histogram\n",
    "axes[1].hist(df['day'], bins=np.arange(df['day'].min() - 0.5, df['day'].max() + 1.5, day_bin_width), edgecolor='black')\n",
    "axes[1].set_title('Histogram of Days')\n",
    "axes[1].set_xlabel('Day')\n",
    "axes[1].set_ylabel('Count')\n",
    "\n",
    "# Hour histogram\n",
    "axes[2].hist(df['hour'], bins=np.arange(df['hour'].min() - 0.5, df['hour'].max() + 1.5, hour_bin_width), edgecolor='black')\n",
    "axes[2].set_title('Histogram of Hours')\n",
    "axes[2].set_xlabel('Hour')\n",
    "axes[2].set_ylabel('Count')\n",
    "\n",
    "plt.tight_layout()\n",
    "plt.show()"
   ]
  },
  {
   "cell_type": "markdown",
   "metadata": {},
   "source": [
    "#### Ordering the dataframe per timestamp"
   ]
  },
  {
   "cell_type": "code",
   "execution_count": 13,
   "metadata": {
    "ExecuteTime": {
     "end_time": "2023-12-04T00:15:58.114893100Z",
     "start_time": "2023-12-04T00:15:58.030896300Z"
    }
   },
   "outputs": [],
   "source": [
    "df['timestamp'] = pd.to_datetime(df[['year', 'month', 'day', 'hour', 'minute', 'second']])\n",
    "\n",
    "df = df.sort_values(by='timestamp')\n",
    "\n",
    "df = df.reset_index(drop=True)\n"
   ]
  },
  {
   "cell_type": "code",
   "execution_count": 14,
   "metadata": {
    "ExecuteTime": {
     "end_time": "2023-12-04T00:15:59.510737Z",
     "start_time": "2023-12-04T00:15:59.446437700Z"
    }
   },
   "outputs": [
    {
     "data": {
      "text/plain": "       month  day  hour  minute  second  year  loss_percentage  \\\n0          6   13     9      46      49  2017         0.047484   \n1          6   13     9      46      54  2017         0.027331   \n2          6   13     9      46      59  2017         0.027331   \n3          6   13     9      47       4  2017         0.039799   \n4          6   13     9      47       9  2017         0.039799   \n...      ...  ...   ...     ...     ...   ...              ...   \n45749      6   30    15      53      27  2017         0.567408   \n45750      6   30    15      53      32  2017         0.567408   \n45751      6   30    15      54       7  2017         0.565741   \n45752      6   30    15      54      12  2017         0.565741   \n45753      6   30    15      58       0  2017         0.541427   \n\n       irradiance_level                                     original_title  \\\n0              0.296733  solar_Tue_Jun_13_9__46__49_2017_L_0.0474843723...   \n1              0.288831  solar_Tue_Jun_13_9__46__54_2017_L_0.0273312333...   \n2              0.288831  solar_Tue_Jun_13_9__46__59_2017_L_0.0273312333...   \n3              0.300631  solar_Tue_Jun_13_9__47__4_2017_L_0.03979859380...   \n4              0.300631  solar_Tue_Jun_13_9__47__9_2017_L_0.03979859380...   \n...                 ...                                                ...   \n45749          0.243176  solar_Fri_Jun_30_15__53__27_2017_L_0.567408482...   \n45750          0.243176  solar_Fri_Jun_30_15__53__32_2017_L_0.567408482...   \n45751          0.291667  solar_Fri_Jun_30_15__54__7_2017_L_0.5657411764...   \n45752          0.291667  solar_Fri_Jun_30_15__54__12_2017_L_0.565741176...   \n45753          0.317404  solar_Fri_Jun_30_15__58__0_2017_L_0.5414267711...   \n\n                timestamp  \n0     2017-06-13 09:46:49  \n1     2017-06-13 09:46:54  \n2     2017-06-13 09:46:59  \n3     2017-06-13 09:47:04  \n4     2017-06-13 09:47:09  \n...                   ...  \n45749 2017-06-30 15:53:27  \n45750 2017-06-30 15:53:32  \n45751 2017-06-30 15:54:07  \n45752 2017-06-30 15:54:12  \n45753 2017-06-30 15:58:00  \n\n[45754 rows x 10 columns]",
      "text/html": "<div>\n<style scoped>\n    .dataframe tbody tr th:only-of-type {\n        vertical-align: middle;\n    }\n\n    .dataframe tbody tr th {\n        vertical-align: top;\n    }\n\n    .dataframe thead th {\n        text-align: right;\n    }\n</style>\n<table border=\"1\" class=\"dataframe\">\n  <thead>\n    <tr style=\"text-align: right;\">\n      <th></th>\n      <th>month</th>\n      <th>day</th>\n      <th>hour</th>\n      <th>minute</th>\n      <th>second</th>\n      <th>year</th>\n      <th>loss_percentage</th>\n      <th>irradiance_level</th>\n      <th>original_title</th>\n      <th>timestamp</th>\n    </tr>\n  </thead>\n  <tbody>\n    <tr>\n      <th>0</th>\n      <td>6</td>\n      <td>13</td>\n      <td>9</td>\n      <td>46</td>\n      <td>49</td>\n      <td>2017</td>\n      <td>0.047484</td>\n      <td>0.296733</td>\n      <td>solar_Tue_Jun_13_9__46__49_2017_L_0.0474843723...</td>\n      <td>2017-06-13 09:46:49</td>\n    </tr>\n    <tr>\n      <th>1</th>\n      <td>6</td>\n      <td>13</td>\n      <td>9</td>\n      <td>46</td>\n      <td>54</td>\n      <td>2017</td>\n      <td>0.027331</td>\n      <td>0.288831</td>\n      <td>solar_Tue_Jun_13_9__46__54_2017_L_0.0273312333...</td>\n      <td>2017-06-13 09:46:54</td>\n    </tr>\n    <tr>\n      <th>2</th>\n      <td>6</td>\n      <td>13</td>\n      <td>9</td>\n      <td>46</td>\n      <td>59</td>\n      <td>2017</td>\n      <td>0.027331</td>\n      <td>0.288831</td>\n      <td>solar_Tue_Jun_13_9__46__59_2017_L_0.0273312333...</td>\n      <td>2017-06-13 09:46:59</td>\n    </tr>\n    <tr>\n      <th>3</th>\n      <td>6</td>\n      <td>13</td>\n      <td>9</td>\n      <td>47</td>\n      <td>4</td>\n      <td>2017</td>\n      <td>0.039799</td>\n      <td>0.300631</td>\n      <td>solar_Tue_Jun_13_9__47__4_2017_L_0.03979859380...</td>\n      <td>2017-06-13 09:47:04</td>\n    </tr>\n    <tr>\n      <th>4</th>\n      <td>6</td>\n      <td>13</td>\n      <td>9</td>\n      <td>47</td>\n      <td>9</td>\n      <td>2017</td>\n      <td>0.039799</td>\n      <td>0.300631</td>\n      <td>solar_Tue_Jun_13_9__47__9_2017_L_0.03979859380...</td>\n      <td>2017-06-13 09:47:09</td>\n    </tr>\n    <tr>\n      <th>...</th>\n      <td>...</td>\n      <td>...</td>\n      <td>...</td>\n      <td>...</td>\n      <td>...</td>\n      <td>...</td>\n      <td>...</td>\n      <td>...</td>\n      <td>...</td>\n      <td>...</td>\n    </tr>\n    <tr>\n      <th>45749</th>\n      <td>6</td>\n      <td>30</td>\n      <td>15</td>\n      <td>53</td>\n      <td>27</td>\n      <td>2017</td>\n      <td>0.567408</td>\n      <td>0.243176</td>\n      <td>solar_Fri_Jun_30_15__53__27_2017_L_0.567408482...</td>\n      <td>2017-06-30 15:53:27</td>\n    </tr>\n    <tr>\n      <th>45750</th>\n      <td>6</td>\n      <td>30</td>\n      <td>15</td>\n      <td>53</td>\n      <td>32</td>\n      <td>2017</td>\n      <td>0.567408</td>\n      <td>0.243176</td>\n      <td>solar_Fri_Jun_30_15__53__32_2017_L_0.567408482...</td>\n      <td>2017-06-30 15:53:32</td>\n    </tr>\n    <tr>\n      <th>45751</th>\n      <td>6</td>\n      <td>30</td>\n      <td>15</td>\n      <td>54</td>\n      <td>7</td>\n      <td>2017</td>\n      <td>0.565741</td>\n      <td>0.291667</td>\n      <td>solar_Fri_Jun_30_15__54__7_2017_L_0.5657411764...</td>\n      <td>2017-06-30 15:54:07</td>\n    </tr>\n    <tr>\n      <th>45752</th>\n      <td>6</td>\n      <td>30</td>\n      <td>15</td>\n      <td>54</td>\n      <td>12</td>\n      <td>2017</td>\n      <td>0.565741</td>\n      <td>0.291667</td>\n      <td>solar_Fri_Jun_30_15__54__12_2017_L_0.565741176...</td>\n      <td>2017-06-30 15:54:12</td>\n    </tr>\n    <tr>\n      <th>45753</th>\n      <td>6</td>\n      <td>30</td>\n      <td>15</td>\n      <td>58</td>\n      <td>0</td>\n      <td>2017</td>\n      <td>0.541427</td>\n      <td>0.317404</td>\n      <td>solar_Fri_Jun_30_15__58__0_2017_L_0.5414267711...</td>\n      <td>2017-06-30 15:58:00</td>\n    </tr>\n  </tbody>\n</table>\n<p>45754 rows × 10 columns</p>\n</div>"
     },
     "execution_count": 14,
     "metadata": {},
     "output_type": "execute_result"
    }
   ],
   "source": [
    "df"
   ]
  },
  {
   "cell_type": "markdown",
   "metadata": {},
   "source": [
    "#### Preprocessing to drop any photos that happen within a range of 30 seconds apart or have loss_percentage >= 0.15\n",
    "\n",
    " - Add a unique ID"
   ]
  },
  {
   "cell_type": "code",
   "execution_count": 15,
   "metadata": {
    "ExecuteTime": {
     "end_time": "2023-12-04T00:16:04.703435200Z",
     "start_time": "2023-12-04T00:16:02.341029700Z"
    }
   },
   "outputs": [
    {
     "data": {
      "text/plain": "       month  day  hour  minute  second  year  loss_percentage  \\\n0          6   13     9      46      49  2017         0.047484   \n5          6   13     9      47      54  2017         0.021836   \n9          6   13     9      48      30  2017         0.170606   \n10         6   13     9      48      40  2017         0.292644   \n12         6   13     9      49      36  2017         0.449538   \n...      ...  ...   ...     ...     ...   ...              ...   \n45749      6   30    15      53      27  2017         0.567408   \n45750      6   30    15      53      32  2017         0.567408   \n45751      6   30    15      54       7  2017         0.565741   \n45752      6   30    15      54      12  2017         0.565741   \n45753      6   30    15      58       0  2017         0.541427   \n\n       irradiance_level                                     original_title  \\\n0              0.296733  solar_Tue_Jun_13_9__46__49_2017_L_0.0474843723...   \n5              0.613851  solar_Tue_Jun_13_9__47__54_2017_L_0.0218357907...   \n9              0.601502  solar_Tue_Jun_13_9__48__30_2017_L_0.1706056081...   \n10             0.530525  solar_Tue_Jun_13_9__48__40_2017_L_0.2926436237...   \n12             0.652835  solar_Tue_Jun_13_9__49__36_2017_L_0.4495383635...   \n...                 ...                                                ...   \n45749          0.243176  solar_Fri_Jun_30_15__53__27_2017_L_0.567408482...   \n45750          0.243176  solar_Fri_Jun_30_15__53__32_2017_L_0.567408482...   \n45751          0.291667  solar_Fri_Jun_30_15__54__7_2017_L_0.5657411764...   \n45752          0.291667  solar_Fri_Jun_30_15__54__12_2017_L_0.565741176...   \n45753          0.317404  solar_Fri_Jun_30_15__58__0_2017_L_0.5414267711...   \n\n       unique_id  \n0              1  \n5              2  \n9              3  \n10             4  \n12             5  \n...          ...  \n45749      23112  \n45750      23113  \n45751      23114  \n45752      23115  \n45753      23116  \n\n[23116 rows x 10 columns]",
      "text/html": "<div>\n<style scoped>\n    .dataframe tbody tr th:only-of-type {\n        vertical-align: middle;\n    }\n\n    .dataframe tbody tr th {\n        vertical-align: top;\n    }\n\n    .dataframe thead th {\n        text-align: right;\n    }\n</style>\n<table border=\"1\" class=\"dataframe\">\n  <thead>\n    <tr style=\"text-align: right;\">\n      <th></th>\n      <th>month</th>\n      <th>day</th>\n      <th>hour</th>\n      <th>minute</th>\n      <th>second</th>\n      <th>year</th>\n      <th>loss_percentage</th>\n      <th>irradiance_level</th>\n      <th>original_title</th>\n      <th>unique_id</th>\n    </tr>\n  </thead>\n  <tbody>\n    <tr>\n      <th>0</th>\n      <td>6</td>\n      <td>13</td>\n      <td>9</td>\n      <td>46</td>\n      <td>49</td>\n      <td>2017</td>\n      <td>0.047484</td>\n      <td>0.296733</td>\n      <td>solar_Tue_Jun_13_9__46__49_2017_L_0.0474843723...</td>\n      <td>1</td>\n    </tr>\n    <tr>\n      <th>5</th>\n      <td>6</td>\n      <td>13</td>\n      <td>9</td>\n      <td>47</td>\n      <td>54</td>\n      <td>2017</td>\n      <td>0.021836</td>\n      <td>0.613851</td>\n      <td>solar_Tue_Jun_13_9__47__54_2017_L_0.0218357907...</td>\n      <td>2</td>\n    </tr>\n    <tr>\n      <th>9</th>\n      <td>6</td>\n      <td>13</td>\n      <td>9</td>\n      <td>48</td>\n      <td>30</td>\n      <td>2017</td>\n      <td>0.170606</td>\n      <td>0.601502</td>\n      <td>solar_Tue_Jun_13_9__48__30_2017_L_0.1706056081...</td>\n      <td>3</td>\n    </tr>\n    <tr>\n      <th>10</th>\n      <td>6</td>\n      <td>13</td>\n      <td>9</td>\n      <td>48</td>\n      <td>40</td>\n      <td>2017</td>\n      <td>0.292644</td>\n      <td>0.530525</td>\n      <td>solar_Tue_Jun_13_9__48__40_2017_L_0.2926436237...</td>\n      <td>4</td>\n    </tr>\n    <tr>\n      <th>12</th>\n      <td>6</td>\n      <td>13</td>\n      <td>9</td>\n      <td>49</td>\n      <td>36</td>\n      <td>2017</td>\n      <td>0.449538</td>\n      <td>0.652835</td>\n      <td>solar_Tue_Jun_13_9__49__36_2017_L_0.4495383635...</td>\n      <td>5</td>\n    </tr>\n    <tr>\n      <th>...</th>\n      <td>...</td>\n      <td>...</td>\n      <td>...</td>\n      <td>...</td>\n      <td>...</td>\n      <td>...</td>\n      <td>...</td>\n      <td>...</td>\n      <td>...</td>\n      <td>...</td>\n    </tr>\n    <tr>\n      <th>45749</th>\n      <td>6</td>\n      <td>30</td>\n      <td>15</td>\n      <td>53</td>\n      <td>27</td>\n      <td>2017</td>\n      <td>0.567408</td>\n      <td>0.243176</td>\n      <td>solar_Fri_Jun_30_15__53__27_2017_L_0.567408482...</td>\n      <td>23112</td>\n    </tr>\n    <tr>\n      <th>45750</th>\n      <td>6</td>\n      <td>30</td>\n      <td>15</td>\n      <td>53</td>\n      <td>32</td>\n      <td>2017</td>\n      <td>0.567408</td>\n      <td>0.243176</td>\n      <td>solar_Fri_Jun_30_15__53__32_2017_L_0.567408482...</td>\n      <td>23113</td>\n    </tr>\n    <tr>\n      <th>45751</th>\n      <td>6</td>\n      <td>30</td>\n      <td>15</td>\n      <td>54</td>\n      <td>7</td>\n      <td>2017</td>\n      <td>0.565741</td>\n      <td>0.291667</td>\n      <td>solar_Fri_Jun_30_15__54__7_2017_L_0.5657411764...</td>\n      <td>23114</td>\n    </tr>\n    <tr>\n      <th>45752</th>\n      <td>6</td>\n      <td>30</td>\n      <td>15</td>\n      <td>54</td>\n      <td>12</td>\n      <td>2017</td>\n      <td>0.565741</td>\n      <td>0.291667</td>\n      <td>solar_Fri_Jun_30_15__54__12_2017_L_0.565741176...</td>\n      <td>23115</td>\n    </tr>\n    <tr>\n      <th>45753</th>\n      <td>6</td>\n      <td>30</td>\n      <td>15</td>\n      <td>58</td>\n      <td>0</td>\n      <td>2017</td>\n      <td>0.541427</td>\n      <td>0.317404</td>\n      <td>solar_Fri_Jun_30_15__58__0_2017_L_0.5414267711...</td>\n      <td>23116</td>\n    </tr>\n  </tbody>\n</table>\n<p>23116 rows × 10 columns</p>\n</div>"
     },
     "execution_count": 15,
     "metadata": {},
     "output_type": "execute_result"
    }
   ],
   "source": [
    "df_copy = df.copy()\n",
    "\n",
    "# Initialize a list to store the indices to keep\n",
    "indices_to_keep = [df.index[0]]\n",
    "\n",
    "# Iterate through the DataFrame and keep rows that are more than 30 seconds apart or have loss_percentage >= 0.15\n",
    "for i in range(1, len(df)):\n",
    "    time_difference = (df['timestamp'].iloc[i] - df['timestamp'].iloc[indices_to_keep[-1]]).seconds\n",
    "    if (time_difference > 60) or (df['loss_percentage'].iloc[i] >= 0.15):\n",
    "        indices_to_keep.append(i)\n",
    "\n",
    "# Filter the DataFrame based on the selected indices\n",
    "filtered_df = df.loc[indices_to_keep]\n",
    "\n",
    "filtered_df = filtered_df.drop(columns='timestamp')\n",
    "\n",
    "filtered_df['unique_id'] = range(1, len(filtered_df) + 1)\n",
    "\n",
    "filtered_df"
   ]
  },
  {
   "cell_type": "code",
   "execution_count": 16,
   "metadata": {
    "ExecuteTime": {
     "end_time": "2023-12-04T00:16:17.716130800Z",
     "start_time": "2023-12-04T00:16:17.521903400Z"
    }
   },
   "outputs": [
    {
     "data": {
      "text/plain": "<Figure size 640x480 with 1 Axes>",
      "image/png": "[encoded data removed]"
     },
     "metadata": {},
     "output_type": "display_data"
    },
    {
     "name": "stdout",
     "output_type": "stream",
     "text": [
      "Bin 0.0 - 0.1: 2507 counts\n",
      "Bin 0.1 - 0.2: 2392 counts\n",
      "Bin 0.2 - 0.3: 2045 counts\n",
      "Bin 0.3 - 0.4: 2799 counts\n",
      "Bin 0.4 - 0.5: 1542 counts\n",
      "Bin 0.5 - 0.6: 2232 counts\n",
      "Bin 0.6 - 0.7: 4899 counts\n",
      "Bin 0.7 - 0.8: 1671 counts\n",
      "Bin 0.8 - 0.9: 2369 counts\n",
      "Bin 0.9 - 1.0: 660 counts\n"
     ]
    }
   ],
   "source": [
    "# Set the bin width\n",
    "bin_width = 0.1\n",
    "\n",
    "# Create bins from 0 to 1 with a step of bin_width\n",
    "bins = np.arange(0, 1.1, bin_width)\n",
    "\n",
    "# Count occurrences in each bin\n",
    "hist, bin_edges = np.histogram(filtered_df['loss_percentage'], bins=bins)\n",
    "\n",
    "# Visualize the histogram\n",
    "plt.bar(bins[:-1], hist, width=bin_width, align='edge', edgecolor='black')\n",
    "plt.xlabel('Loss Percentage Bins')\n",
    "plt.ylabel('Count')\n",
    "plt.title('Histogram of Loss Percentages')\n",
    "plt.show()\n",
    "\n",
    "# Display the results\n",
    "for i in range(len(hist)):\n",
    "    print(f\"Bin {bins[i]:.1f} - {bins[i+1]:.1f}: {hist[i]} counts\")"
   ]
  },
  {
   "cell_type": "code",
   "execution_count": 17,
   "metadata": {
    "ExecuteTime": {
     "end_time": "2023-12-04T00:16:19.765369900Z",
     "start_time": "2023-12-04T00:16:19.548921100Z"
    }
   },
   "outputs": [
    {
     "data": {
      "text/plain": "<Figure size 640x480 with 1 Axes>",
      "image/png": "[encoded data removed]"
     },
     "metadata": {},
     "output_type": "display_data"
    },
    {
     "name": "stdout",
     "output_type": "stream",
     "text": [
      "Bin 0.0 - 0.2: 4899 counts\n",
      "Bin 0.2 - 0.4: 4844 counts\n",
      "Bin 0.4 - 0.6: 3774 counts\n",
      "Bin 0.6 - 0.8: 6570 counts\n",
      "Bin 0.8 - 1.0: 3029 counts\n"
     ]
    }
   ],
   "source": [
    "# Set the bin width to 0.2\n",
    "bin_width = 0.2\n",
    "\n",
    "# Create bins from 0 to 1 with a step of bin_width\n",
    "bins = np.arange(0, 1.2, bin_width)\n",
    "\n",
    "# Count occurrences in each bin\n",
    "hist, bin_edges = np.histogram(filtered_df['loss_percentage'], bins=bins)\n",
    "\n",
    "# Visualize the histogram\n",
    "plt.bar(bins[:-1], hist, width=bin_width, align='edge', edgecolor='black')\n",
    "plt.xlabel('Loss Percentage Bins')\n",
    "plt.ylabel('Count')\n",
    "plt.title('Histogram of Loss Percentages (Bin Width = 0.2)')\n",
    "plt.show()\n",
    "\n",
    "# Display the results\n",
    "for i in range(len(hist)):\n",
    "    print(f\"Bin {bins[i]:.1f} - {bins[i+1]:.1f}: {hist[i]} counts\")"
   ]
  },
  {
   "cell_type": "markdown",
   "metadata": {},
   "source": [
    "### Create new folder with images for deep Learning\n",
    "\n",
    "#### Don't RUN !!!"
   ]
  },
  {
   "cell_type": "code",
   "execution_count": 18,
   "outputs": [
    {
     "name": "stdout",
     "output_type": "stream",
     "text": [
      "Copying completed.\n"
     ]
    }
   ],
   "source": [
    "# Assuming you have a DataFrame named df with a column 'original_title' and 'unique_id'\n",
    "data_folder = 'SolarPanelSoilingImageDataset\\PanelImages/'\n",
    "new_folder_id = 'SolarPanelSoilingImageDataset\\Pytorch_data\\ID/'\n",
    "new_folder_id_copy = 'SolarPanelSoilingImageDataset\\Pytorch_data\\ID_COPY/'\n",
    "\n",
    "# Create the new folders if they don't exist\n",
    "os.makedirs(new_folder_id, exist_ok=True)\n",
    "os.makedirs(new_folder_id_copy, exist_ok=True)\n",
    "\n",
    "# Iterate through the DataFrame and copy the selected images to the new folders with unique ID as the filename\n",
    "for index, row in filtered_df.iterrows():\n",
    "    original_title = row['original_title']\n",
    "    unique_id = row['unique_id']\n",
    "\n",
    "    # Construct the new filename with the unique ID\n",
    "    new_filename_id = f\"{unique_id}.jpg\"\n",
    "\n",
    "    old_path = os.path.join(data_folder, original_title)\n",
    "    new_path_id = os.path.join(new_folder_id, new_filename_id)\n",
    "    new_path_id_copy = os.path.join(new_folder_id_copy, new_filename_id)\n",
    "\n",
    "    try:\n",
    "        shutil.copy(old_path, new_path_id)\n",
    "        shutil.copy(old_path, new_path_id_copy)\n",
    "        # print(f\"Copying {original_title} to {new_folder_id} and {new_folder_id_copy}\")\n",
    "    except FileNotFoundError:\n",
    "        print(f\"File {original_title} not found in {data_folder}\")\n",
    "\n",
    "print(\"Copying completed.\")"
   ],
   "metadata": {
    "collapsed": false,
    "ExecuteTime": {
     "end_time": "2023-12-04T00:21:10.102708900Z",
     "start_time": "2023-12-04T00:20:04.821538700Z"
    }
   }
  },
  {
   "cell_type": "code",
   "execution_count": 20,
   "metadata": {
    "ExecuteTime": {
     "end_time": "2023-12-04T00:24:41.159876900Z",
     "start_time": "2023-12-04T00:22:45.360053500Z"
    }
   },
   "outputs": [
    {
     "name": "stdout",
     "output_type": "stream",
     "text": [
      "Number of images: 23116\n",
      "Average width: 192.0\n",
      "Average height: 192.0\n"
     ]
    }
   ],
   "source": [
    "image_count = 0\n",
    "total_width = 0\n",
    "total_height = 0\n",
    "\n",
    "for filename in os.listdir('SolarPanelSoilingImageDataset\\Pytorch_data\\ID/'):\n",
    "    if filename.endswith('.jpg') or filename.endswith('.png'):\n",
    "        image_count += 1\n",
    "        image = Image.open(os.path.join('SolarPanelSoilingImageDataset\\Pytorch_data\\ID/', filename))\n",
    "        width, height = image.size\n",
    "        total_width += width\n",
    "        total_height += height\n",
    "\n",
    "average_width = total_width / image_count\n",
    "average_height = total_height / image_count\n",
    "\n",
    "print(\"Number of images:\", image_count)\n",
    "print(\"Average width:\", average_width)\n",
    "print(\"Average height:\", average_height)"
   ]
  },
  {
   "cell_type": "markdown",
   "metadata": {},
   "source": [
    "#### Export pandas dataframe to csv"
   ]
  },
  {
   "cell_type": "code",
   "execution_count": 21,
   "metadata": {
    "ExecuteTime": {
     "end_time": "2023-12-04T00:24:46.808504800Z",
     "start_time": "2023-12-04T00:24:46.571037700Z"
    }
   },
   "outputs": [],
   "source": [
    "filtered_df.to_csv('filtered_data.csv', index=False)"
   ]
  },
  {
   "cell_type": "markdown",
   "source": [
    "### Preprocessing images with soil\n"
   ],
   "metadata": {
    "collapsed": false
   }
  },
  {
   "cell_type": "code",
   "execution_count": 2,
   "outputs": [
    {
     "data": {
      "text/plain": "['(1)_none_0.jpg',\n '(10)_none_0.jpg',\n '(100)_whitesand_2.jpg',\n '(1000)_multiple_1.jpg',\n '(10000)_whitesand_1.jpg',\n '(10001)_whitesand_1.jpg',\n '(10002)_whitesand_1.jpg',\n '(10003)_whitesand_1.jpg',\n '(10004)_whitesand_1.jpg',\n '(10005)_whitesand_1.jpg']"
     },
     "execution_count": 2,
     "metadata": {},
     "output_type": "execute_result"
    }
   ],
   "source": [
    "data_folder = 'SolarPanelSoilingImageDataset\\Pytorch_data\\ID_COPY/'\n",
    "\n",
    "files = os.listdir(data_folder)\n",
    "\n",
    "files[0:10]"
   ],
   "metadata": {
    "collapsed": false,
    "ExecuteTime": {
     "end_time": "2023-12-04T15:13:24.594287400Z",
     "start_time": "2023-12-04T15:13:24.507538300Z"
    }
   }
  },
  {
   "cell_type": "code",
   "execution_count": 3,
   "outputs": [],
   "source": [
    "examples = []\n",
    "for file in files:\n",
    "    parts = file.split('_')\n",
    "    unique_id = parts[0][1:-1]  # Remove the last parenthesis from the first part within parentheses\n",
    "    type_soil = parts[1]\n",
    "    percentage = int(parts[2].split('.')[0])\n",
    "\n",
    "    data = {\n",
    "        'unique_id': unique_id,\n",
    "        'type_soil': type_soil,\n",
    "        'percentage': percentage,\n",
    "        'original_title': file,\n",
    "    }\n",
    "\n",
    "    examples.append(data)\n",
    "\n",
    "df = pd.DataFrame(examples)"
   ],
   "metadata": {
    "collapsed": false,
    "ExecuteTime": {
     "end_time": "2023-12-04T15:13:26.110191300Z",
     "start_time": "2023-12-04T15:13:26.013501500Z"
    }
   }
  },
  {
   "cell_type": "code",
   "execution_count": 4,
   "outputs": [
    {
     "data": {
      "text/plain": "      unique_id  type_soil  percentage           original_title\n0             1       none           0           (1)_none_0.jpg\n1            10       none           0          (10)_none_0.jpg\n2           100  whitesand           2    (100)_whitesand_2.jpg\n3          1000   multiple           1    (1000)_multiple_1.jpg\n4         10000  whitesand           1  (10000)_whitesand_1.jpg\n...         ...        ...         ...                      ...\n23111      9995  whitesand           1   (9995)_whitesand_1.jpg\n23112      9996  whitesand           1   (9996)_whitesand_1.jpg\n23113      9997  whitesand           1   (9997)_whitesand_1.jpg\n23114      9998  whitesand           1   (9998)_whitesand_1.jpg\n23115      9999  whitesand           1   (9999)_whitesand_1.jpg\n\n[23116 rows x 4 columns]",
      "text/html": "<div>\n<style scoped>\n    .dataframe tbody tr th:only-of-type {\n        vertical-align: middle;\n    }\n\n    .dataframe tbody tr th {\n        vertical-align: top;\n    }\n\n    .dataframe thead th {\n        text-align: right;\n    }\n</style>\n<table border=\"1\" class=\"dataframe\">\n  <thead>\n    <tr style=\"text-align: right;\">\n      <th></th>\n      <th>unique_id</th>\n      <th>type_soil</th>\n      <th>percentage</th>\n      <th>original_title</th>\n    </tr>\n  </thead>\n  <tbody>\n    <tr>\n      <th>0</th>\n      <td>1</td>\n      <td>none</td>\n      <td>0</td>\n      <td>(1)_none_0.jpg</td>\n    </tr>\n    <tr>\n      <th>1</th>\n      <td>10</td>\n      <td>none</td>\n      <td>0</td>\n      <td>(10)_none_0.jpg</td>\n    </tr>\n    <tr>\n      <th>2</th>\n      <td>100</td>\n      <td>whitesand</td>\n      <td>2</td>\n      <td>(100)_whitesand_2.jpg</td>\n    </tr>\n    <tr>\n      <th>3</th>\n      <td>1000</td>\n      <td>multiple</td>\n      <td>1</td>\n      <td>(1000)_multiple_1.jpg</td>\n    </tr>\n    <tr>\n      <th>4</th>\n      <td>10000</td>\n      <td>whitesand</td>\n      <td>1</td>\n      <td>(10000)_whitesand_1.jpg</td>\n    </tr>\n    <tr>\n      <th>...</th>\n      <td>...</td>\n      <td>...</td>\n      <td>...</td>\n      <td>...</td>\n    </tr>\n    <tr>\n      <th>23111</th>\n      <td>9995</td>\n      <td>whitesand</td>\n      <td>1</td>\n      <td>(9995)_whitesand_1.jpg</td>\n    </tr>\n    <tr>\n      <th>23112</th>\n      <td>9996</td>\n      <td>whitesand</td>\n      <td>1</td>\n      <td>(9996)_whitesand_1.jpg</td>\n    </tr>\n    <tr>\n      <th>23113</th>\n      <td>9997</td>\n      <td>whitesand</td>\n      <td>1</td>\n      <td>(9997)_whitesand_1.jpg</td>\n    </tr>\n    <tr>\n      <th>23114</th>\n      <td>9998</td>\n      <td>whitesand</td>\n      <td>1</td>\n      <td>(9998)_whitesand_1.jpg</td>\n    </tr>\n    <tr>\n      <th>23115</th>\n      <td>9999</td>\n      <td>whitesand</td>\n      <td>1</td>\n      <td>(9999)_whitesand_1.jpg</td>\n    </tr>\n  </tbody>\n</table>\n<p>23116 rows × 4 columns</p>\n</div>"
     },
     "execution_count": 4,
     "metadata": {},
     "output_type": "execute_result"
    }
   ],
   "source": [
    "df"
   ],
   "metadata": {
    "collapsed": false,
    "ExecuteTime": {
     "end_time": "2023-12-04T15:13:27.136517300Z",
     "start_time": "2023-12-04T15:13:27.090856Z"
    }
   }
  },
  {
   "cell_type": "markdown",
   "source": [
    "### Export to csv\n"
   ],
   "metadata": {
    "collapsed": false
   }
  },
  {
   "cell_type": "code",
   "execution_count": 12,
   "outputs": [],
   "source": [
    "df.to_csv('df_2.csv', index=False)\n"
   ],
   "metadata": {
    "collapsed": false,
    "ExecuteTime": {
     "end_time": "2023-12-04T15:02:53.445364500Z",
     "start_time": "2023-12-04T15:02:53.364830Z"
    }
   }
  },
  {
   "cell_type": "markdown",
   "source": [
    "### Merge dfs"
   ],
   "metadata": {
    "collapsed": false
   }
  },
  {
   "cell_type": "code",
   "execution_count": 5,
   "outputs": [
    {
     "data": {
      "text/plain": "       month  day  hour  minute  second  year  loss_percentage  \\\n0          6   13     9      46      49  2017         0.047484   \n1          6   13     9      47      54  2017         0.021836   \n2          6   13     9      48      30  2017         0.170606   \n3          6   13     9      48      40  2017         0.292644   \n4          6   13     9      49      36  2017         0.449538   \n...      ...  ...   ...     ...     ...   ...              ...   \n23111      6   30    15      53      27  2017         0.567408   \n23112      6   30    15      53      32  2017         0.567408   \n23113      6   30    15      54       7  2017         0.565741   \n23114      6   30    15      54      12  2017         0.565741   \n23115      6   30    15      58       0  2017         0.541427   \n\n       irradiance_level                                   original_title_x  \\\n0              0.296733  solar_Tue_Jun_13_9__46__49_2017_L_0.0474843723...   \n1              0.613851  solar_Tue_Jun_13_9__47__54_2017_L_0.0218357907...   \n2              0.601502  solar_Tue_Jun_13_9__48__30_2017_L_0.1706056081...   \n3              0.530525  solar_Tue_Jun_13_9__48__40_2017_L_0.2926436237...   \n4              0.652835  solar_Tue_Jun_13_9__49__36_2017_L_0.4495383635...   \n...                 ...                                                ...   \n23111          0.243176  solar_Fri_Jun_30_15__53__27_2017_L_0.567408482...   \n23112          0.243176  solar_Fri_Jun_30_15__53__32_2017_L_0.567408482...   \n23113          0.291667  solar_Fri_Jun_30_15__54__7_2017_L_0.5657411764...   \n23114          0.291667  solar_Fri_Jun_30_15__54__12_2017_L_0.565741176...   \n23115          0.317404  solar_Fri_Jun_30_15__58__0_2017_L_0.5414267711...   \n\n       unique_id   type_soil  percentage          original_title_y  \n0              1        none           0            (1)_none_0.jpg  \n1              2        none           0            (2)_none_0.jpg  \n2              3        none           0            (3)_none_0.jpg  \n3              4        none           0            (4)_none_0.jpg  \n4              5        none           0            (5)_none_0.jpg  \n...          ...         ...         ...                       ...  \n23111      23112  yellowsand           1  (23112)_yellowsand_1.jpg  \n23112      23113  yellowsand           1  (23113)_yellowsand_1.jpg  \n23113      23114  yellowsand           1  (23114)_yellowsand_1.jpg  \n23114      23115  yellowsand           1  (23115)_yellowsand_1.jpg  \n23115      23116  yellowsand           1  (23116)_yellowsand_1.jpg  \n\n[23116 rows x 13 columns]",
      "text/html": "<div>\n<style scoped>\n    .dataframe tbody tr th:only-of-type {\n        vertical-align: middle;\n    }\n\n    .dataframe tbody tr th {\n        vertical-align: top;\n    }\n\n    .dataframe thead th {\n        text-align: right;\n    }\n</style>\n<table border=\"1\" class=\"dataframe\">\n  <thead>\n    <tr style=\"text-align: right;\">\n      <th></th>\n      <th>month</th>\n      <th>day</th>\n      <th>hour</th>\n      <th>minute</th>\n      <th>second</th>\n      <th>year</th>\n      <th>loss_percentage</th>\n      <th>irradiance_level</th>\n      <th>original_title_x</th>\n      <th>unique_id</th>\n      <th>type_soil</th>\n      <th>percentage</th>\n      <th>original_title_y</th>\n    </tr>\n  </thead>\n  <tbody>\n    <tr>\n      <th>0</th>\n      <td>6</td>\n      <td>13</td>\n      <td>9</td>\n      <td>46</td>\n      <td>49</td>\n      <td>2017</td>\n      <td>0.047484</td>\n      <td>0.296733</td>\n      <td>solar_Tue_Jun_13_9__46__49_2017_L_0.0474843723...</td>\n      <td>1</td>\n      <td>none</td>\n      <td>0</td>\n      <td>(1)_none_0.jpg</td>\n    </tr>\n    <tr>\n      <th>1</th>\n      <td>6</td>\n      <td>13</td>\n      <td>9</td>\n      <td>47</td>\n      <td>54</td>\n      <td>2017</td>\n      <td>0.021836</td>\n      <td>0.613851</td>\n      <td>solar_Tue_Jun_13_9__47__54_2017_L_0.0218357907...</td>\n      <td>2</td>\n      <td>none</td>\n      <td>0</td>\n      <td>(2)_none_0.jpg</td>\n    </tr>\n    <tr>\n      <th>2</th>\n      <td>6</td>\n      <td>13</td>\n      <td>9</td>\n      <td>48</td>\n      <td>30</td>\n      <td>2017</td>\n      <td>0.170606</td>\n      <td>0.601502</td>\n      <td>solar_Tue_Jun_13_9__48__30_2017_L_0.1706056081...</td>\n      <td>3</td>\n      <td>none</td>\n      <td>0</td>\n      <td>(3)_none_0.jpg</td>\n    </tr>\n    <tr>\n      <th>3</th>\n      <td>6</td>\n      <td>13</td>\n      <td>9</td>\n      <td>48</td>\n      <td>40</td>\n      <td>2017</td>\n      <td>0.292644</td>\n      <td>0.530525</td>\n      <td>solar_Tue_Jun_13_9__48__40_2017_L_0.2926436237...</td>\n      <td>4</td>\n      <td>none</td>\n      <td>0</td>\n      <td>(4)_none_0.jpg</td>\n    </tr>\n    <tr>\n      <th>4</th>\n      <td>6</td>\n      <td>13</td>\n      <td>9</td>\n      <td>49</td>\n      <td>36</td>\n      <td>2017</td>\n      <td>0.449538</td>\n      <td>0.652835</td>\n      <td>solar_Tue_Jun_13_9__49__36_2017_L_0.4495383635...</td>\n      <td>5</td>\n      <td>none</td>\n      <td>0</td>\n      <td>(5)_none_0.jpg</td>\n    </tr>\n    <tr>\n      <th>...</th>\n      <td>...</td>\n      <td>...</td>\n      <td>...</td>\n      <td>...</td>\n      <td>...</td>\n      <td>...</td>\n      <td>...</td>\n      <td>...</td>\n      <td>...</td>\n      <td>...</td>\n      <td>...</td>\n      <td>...</td>\n      <td>...</td>\n    </tr>\n    <tr>\n      <th>23111</th>\n      <td>6</td>\n      <td>30</td>\n      <td>15</td>\n      <td>53</td>\n      <td>27</td>\n      <td>2017</td>\n      <td>0.567408</td>\n      <td>0.243176</td>\n      <td>solar_Fri_Jun_30_15__53__27_2017_L_0.567408482...</td>\n      <td>23112</td>\n      <td>yellowsand</td>\n      <td>1</td>\n      <td>(23112)_yellowsand_1.jpg</td>\n    </tr>\n    <tr>\n      <th>23112</th>\n      <td>6</td>\n      <td>30</td>\n      <td>15</td>\n      <td>53</td>\n      <td>32</td>\n      <td>2017</td>\n      <td>0.567408</td>\n      <td>0.243176</td>\n      <td>solar_Fri_Jun_30_15__53__32_2017_L_0.567408482...</td>\n      <td>23113</td>\n      <td>yellowsand</td>\n      <td>1</td>\n      <td>(23113)_yellowsand_1.jpg</td>\n    </tr>\n    <tr>\n      <th>23113</th>\n      <td>6</td>\n      <td>30</td>\n      <td>15</td>\n      <td>54</td>\n      <td>7</td>\n      <td>2017</td>\n      <td>0.565741</td>\n      <td>0.291667</td>\n      <td>solar_Fri_Jun_30_15__54__7_2017_L_0.5657411764...</td>\n      <td>23114</td>\n      <td>yellowsand</td>\n      <td>1</td>\n      <td>(23114)_yellowsand_1.jpg</td>\n    </tr>\n    <tr>\n      <th>23114</th>\n      <td>6</td>\n      <td>30</td>\n      <td>15</td>\n      <td>54</td>\n      <td>12</td>\n      <td>2017</td>\n      <td>0.565741</td>\n      <td>0.291667</td>\n      <td>solar_Fri_Jun_30_15__54__12_2017_L_0.565741176...</td>\n      <td>23115</td>\n      <td>yellowsand</td>\n      <td>1</td>\n      <td>(23115)_yellowsand_1.jpg</td>\n    </tr>\n    <tr>\n      <th>23115</th>\n      <td>6</td>\n      <td>30</td>\n      <td>15</td>\n      <td>58</td>\n      <td>0</td>\n      <td>2017</td>\n      <td>0.541427</td>\n      <td>0.317404</td>\n      <td>solar_Fri_Jun_30_15__58__0_2017_L_0.5414267711...</td>\n      <td>23116</td>\n      <td>yellowsand</td>\n      <td>1</td>\n      <td>(23116)_yellowsand_1.jpg</td>\n    </tr>\n  </tbody>\n</table>\n<p>23116 rows × 13 columns</p>\n</div>"
     },
     "execution_count": 5,
     "metadata": {},
     "output_type": "execute_result"
    }
   ],
   "source": [
    "df1 = pd.read_csv('filtered_data.csv')\n",
    "df2 = pd.read_csv('df_2.csv')\n",
    "\n",
    "final_df = pd.merge(df1, df2, on='unique_id', how='inner')\n",
    "\n",
    "final_df\n"
   ],
   "metadata": {
    "collapsed": false,
    "ExecuteTime": {
     "end_time": "2023-12-04T15:13:34.623636900Z",
     "start_time": "2023-12-04T15:13:34.518397Z"
    }
   }
  },
  {
   "cell_type": "code",
   "execution_count": 6,
   "outputs": [
    {
     "data": {
      "text/plain": "whitesand     9609\nclay          6345\nnone          3505\nyellowsand    1455\nmultiple      1442\nbirddrop       760\nName: type_soil, dtype: int64"
     },
     "execution_count": 6,
     "metadata": {},
     "output_type": "execute_result"
    }
   ],
   "source": [
    "final_df['type_soil'].value_counts()"
   ],
   "metadata": {
    "collapsed": false,
    "ExecuteTime": {
     "end_time": "2023-12-04T15:13:37.240151900Z",
     "start_time": "2023-12-04T15:13:37.223230600Z"
    }
   }
  },
  {
   "cell_type": "code",
   "execution_count": 7,
   "outputs": [],
   "source": [
    "le = LabelEncoder()\n",
    "final_df['type_soil'] = le.fit_transform(final_df['type_soil'])"
   ],
   "metadata": {
    "collapsed": false,
    "ExecuteTime": {
     "end_time": "2023-12-04T15:13:44.452736200Z",
     "start_time": "2023-12-04T15:13:44.434035900Z"
    }
   }
  },
  {
   "cell_type": "code",
   "execution_count": 8,
   "outputs": [
    {
     "data": {
      "text/plain": "       month  day  hour  minute  second  year  loss_percentage  \\\n0          6   13     9      46      49  2017         0.047484   \n1          6   13     9      47      54  2017         0.021836   \n2          6   13     9      48      30  2017         0.170606   \n3          6   13     9      48      40  2017         0.292644   \n4          6   13     9      49      36  2017         0.449538   \n...      ...  ...   ...     ...     ...   ...              ...   \n23111      6   30    15      53      27  2017         0.567408   \n23112      6   30    15      53      32  2017         0.567408   \n23113      6   30    15      54       7  2017         0.565741   \n23114      6   30    15      54      12  2017         0.565741   \n23115      6   30    15      58       0  2017         0.541427   \n\n       irradiance_level                                   original_title_x  \\\n0              0.296733  solar_Tue_Jun_13_9__46__49_2017_L_0.0474843723...   \n1              0.613851  solar_Tue_Jun_13_9__47__54_2017_L_0.0218357907...   \n2              0.601502  solar_Tue_Jun_13_9__48__30_2017_L_0.1706056081...   \n3              0.530525  solar_Tue_Jun_13_9__48__40_2017_L_0.2926436237...   \n4              0.652835  solar_Tue_Jun_13_9__49__36_2017_L_0.4495383635...   \n...                 ...                                                ...   \n23111          0.243176  solar_Fri_Jun_30_15__53__27_2017_L_0.567408482...   \n23112          0.243176  solar_Fri_Jun_30_15__53__32_2017_L_0.567408482...   \n23113          0.291667  solar_Fri_Jun_30_15__54__7_2017_L_0.5657411764...   \n23114          0.291667  solar_Fri_Jun_30_15__54__12_2017_L_0.565741176...   \n23115          0.317404  solar_Fri_Jun_30_15__58__0_2017_L_0.5414267711...   \n\n       unique_id  type_soil  percentage          original_title_y  \n0              1          3           0            (1)_none_0.jpg  \n1              2          3           0            (2)_none_0.jpg  \n2              3          3           0            (3)_none_0.jpg  \n3              4          3           0            (4)_none_0.jpg  \n4              5          3           0            (5)_none_0.jpg  \n...          ...        ...         ...                       ...  \n23111      23112          5           1  (23112)_yellowsand_1.jpg  \n23112      23113          5           1  (23113)_yellowsand_1.jpg  \n23113      23114          5           1  (23114)_yellowsand_1.jpg  \n23114      23115          5           1  (23115)_yellowsand_1.jpg  \n23115      23116          5           1  (23116)_yellowsand_1.jpg  \n\n[23116 rows x 13 columns]",
      "text/html": "<div>\n<style scoped>\n    .dataframe tbody tr th:only-of-type {\n        vertical-align: middle;\n    }\n\n    .dataframe tbody tr th {\n        vertical-align: top;\n    }\n\n    .dataframe thead th {\n        text-align: right;\n    }\n</style>\n<table border=\"1\" class=\"dataframe\">\n  <thead>\n    <tr style=\"text-align: right;\">\n      <th></th>\n      <th>month</th>\n      <th>day</th>\n      <th>hour</th>\n      <th>minute</th>\n      <th>second</th>\n      <th>year</th>\n      <th>loss_percentage</th>\n      <th>irradiance_level</th>\n      <th>original_title_x</th>\n      <th>unique_id</th>\n      <th>type_soil</th>\n      <th>percentage</th>\n      <th>original_title_y</th>\n    </tr>\n  </thead>\n  <tbody>\n    <tr>\n      <th>0</th>\n      <td>6</td>\n      <td>13</td>\n      <td>9</td>\n      <td>46</td>\n      <td>49</td>\n      <td>2017</td>\n      <td>0.047484</td>\n      <td>0.296733</td>\n      <td>solar_Tue_Jun_13_9__46__49_2017_L_0.0474843723...</td>\n      <td>1</td>\n      <td>3</td>\n      <td>0</td>\n      <td>(1)_none_0.jpg</td>\n    </tr>\n    <tr>\n      <th>1</th>\n      <td>6</td>\n      <td>13</td>\n      <td>9</td>\n      <td>47</td>\n      <td>54</td>\n      <td>2017</td>\n      <td>0.021836</td>\n      <td>0.613851</td>\n      <td>solar_Tue_Jun_13_9__47__54_2017_L_0.0218357907...</td>\n      <td>2</td>\n      <td>3</td>\n      <td>0</td>\n      <td>(2)_none_0.jpg</td>\n    </tr>\n    <tr>\n      <th>2</th>\n      <td>6</td>\n      <td>13</td>\n      <td>9</td>\n      <td>48</td>\n      <td>30</td>\n      <td>2017</td>\n      <td>0.170606</td>\n      <td>0.601502</td>\n      <td>solar_Tue_Jun_13_9__48__30_2017_L_0.1706056081...</td>\n      <td>3</td>\n      <td>3</td>\n      <td>0</td>\n      <td>(3)_none_0.jpg</td>\n    </tr>\n    <tr>\n      <th>3</th>\n      <td>6</td>\n      <td>13</td>\n      <td>9</td>\n      <td>48</td>\n      <td>40</td>\n      <td>2017</td>\n      <td>0.292644</td>\n      <td>0.530525</td>\n      <td>solar_Tue_Jun_13_9__48__40_2017_L_0.2926436237...</td>\n      <td>4</td>\n      <td>3</td>\n      <td>0</td>\n      <td>(4)_none_0.jpg</td>\n    </tr>\n    <tr>\n      <th>4</th>\n      <td>6</td>\n      <td>13</td>\n      <td>9</td>\n      <td>49</td>\n      <td>36</td>\n      <td>2017</td>\n      <td>0.449538</td>\n      <td>0.652835</td>\n      <td>solar_Tue_Jun_13_9__49__36_2017_L_0.4495383635...</td>\n      <td>5</td>\n      <td>3</td>\n      <td>0</td>\n      <td>(5)_none_0.jpg</td>\n    </tr>\n    <tr>\n      <th>...</th>\n      <td>...</td>\n      <td>...</td>\n      <td>...</td>\n      <td>...</td>\n      <td>...</td>\n      <td>...</td>\n      <td>...</td>\n      <td>...</td>\n      <td>...</td>\n      <td>...</td>\n      <td>...</td>\n      <td>...</td>\n      <td>...</td>\n    </tr>\n    <tr>\n      <th>23111</th>\n      <td>6</td>\n      <td>30</td>\n      <td>15</td>\n      <td>53</td>\n      <td>27</td>\n      <td>2017</td>\n      <td>0.567408</td>\n      <td>0.243176</td>\n      <td>solar_Fri_Jun_30_15__53__27_2017_L_0.567408482...</td>\n      <td>23112</td>\n      <td>5</td>\n      <td>1</td>\n      <td>(23112)_yellowsand_1.jpg</td>\n    </tr>\n    <tr>\n      <th>23112</th>\n      <td>6</td>\n      <td>30</td>\n      <td>15</td>\n      <td>53</td>\n      <td>32</td>\n      <td>2017</td>\n      <td>0.567408</td>\n      <td>0.243176</td>\n      <td>solar_Fri_Jun_30_15__53__32_2017_L_0.567408482...</td>\n      <td>23113</td>\n      <td>5</td>\n      <td>1</td>\n      <td>(23113)_yellowsand_1.jpg</td>\n    </tr>\n    <tr>\n      <th>23113</th>\n      <td>6</td>\n      <td>30</td>\n      <td>15</td>\n      <td>54</td>\n      <td>7</td>\n      <td>2017</td>\n      <td>0.565741</td>\n      <td>0.291667</td>\n      <td>solar_Fri_Jun_30_15__54__7_2017_L_0.5657411764...</td>\n      <td>23114</td>\n      <td>5</td>\n      <td>1</td>\n      <td>(23114)_yellowsand_1.jpg</td>\n    </tr>\n    <tr>\n      <th>23114</th>\n      <td>6</td>\n      <td>30</td>\n      <td>15</td>\n      <td>54</td>\n      <td>12</td>\n      <td>2017</td>\n      <td>0.565741</td>\n      <td>0.291667</td>\n      <td>solar_Fri_Jun_30_15__54__12_2017_L_0.565741176...</td>\n      <td>23115</td>\n      <td>5</td>\n      <td>1</td>\n      <td>(23115)_yellowsand_1.jpg</td>\n    </tr>\n    <tr>\n      <th>23115</th>\n      <td>6</td>\n      <td>30</td>\n      <td>15</td>\n      <td>58</td>\n      <td>0</td>\n      <td>2017</td>\n      <td>0.541427</td>\n      <td>0.317404</td>\n      <td>solar_Fri_Jun_30_15__58__0_2017_L_0.5414267711...</td>\n      <td>23116</td>\n      <td>5</td>\n      <td>1</td>\n      <td>(23116)_yellowsand_1.jpg</td>\n    </tr>\n  </tbody>\n</table>\n<p>23116 rows × 13 columns</p>\n</div>"
     },
     "execution_count": 8,
     "metadata": {},
     "output_type": "execute_result"
    }
   ],
   "source": [
    "final_df"
   ],
   "metadata": {
    "collapsed": false,
    "ExecuteTime": {
     "end_time": "2023-12-04T15:13:45.492774200Z",
     "start_time": "2023-12-04T15:13:45.455361200Z"
    }
   }
  },
  {
   "cell_type": "code",
   "execution_count": 9,
   "outputs": [
    {
     "data": {
      "text/plain": "4    9609\n1    6345\n3    3505\n5    1455\n2    1442\n0     760\nName: type_soil, dtype: int64"
     },
     "execution_count": 9,
     "metadata": {},
     "output_type": "execute_result"
    }
   ],
   "source": [
    "final_df['type_soil'].value_counts()\n"
   ],
   "metadata": {
    "collapsed": false,
    "ExecuteTime": {
     "end_time": "2023-12-04T15:14:04.041082100Z",
     "start_time": "2023-12-04T15:14:03.997420300Z"
    }
   }
  },
  {
   "cell_type": "code",
   "execution_count": 10,
   "outputs": [],
   "source": [
    "final_df.to_csv('final_df.csv', index=False)"
   ],
   "metadata": {
    "collapsed": false,
    "ExecuteTime": {
     "end_time": "2023-12-04T15:14:13.700131200Z",
     "start_time": "2023-12-04T15:14:13.543284700Z"
    }
   }
  },
  {
   "cell_type": "code",
   "execution_count": null,
   "outputs": [],
   "source": [],
   "metadata": {
    "collapsed": false
   }
  }
 ],
 "metadata": {
  "kernelspec": {
   "display_name": "Python 3 (ipykernel)",
   "language": "python",
   "name": "python3"
  },
  "language_info": {
   "codemirror_mode": {
    "name": "ipython",
    "version": 3
   },
   "file_extension": ".py",
   "mimetype": "text/x-python",
   "name": "python",
   "nbconvert_exporter": "python",
   "pygments_lexer": "ipython3",
   "version": "3.11.0"
  }
 },
 "nbformat": 4,
 "nbformat_minor": 1
}
