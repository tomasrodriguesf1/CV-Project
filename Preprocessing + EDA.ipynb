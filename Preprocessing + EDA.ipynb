{
 "cells": [
  {
   "cell_type": "code",
   "execution_count": 1,
   "metadata": {
    "collapsed": true,
    "ExecuteTime": {
     "end_time": "2023-11-20T16:50:07.942777100Z",
     "start_time": "2023-11-20T16:50:06.597240300Z"
    }
   },
   "outputs": [],
   "source": [
    "import os\n",
    "import pandas as pd\n",
    "from matplotlib import pyplot as plt\n",
    "import numpy as np"
   ]
  },
  {
   "cell_type": "markdown",
   "source": [
    "#### Data Directory\n"
   ],
   "metadata": {
    "collapsed": false
   }
  },
  {
   "cell_type": "code",
   "execution_count": 2,
   "outputs": [
    {
     "data": {
      "text/plain": "['solar_Fri_Jun_16_10__0__11_2017_L_0.906153208302_I_0.321592156863.jpg',\n 'solar_Fri_Jun_16_10__0__16_2017_L_0.903081697073_I_0.293192156863.jpg',\n 'solar_Fri_Jun_16_10__0__1_2017_L_0.916698044034_I_0.39577254902.jpg',\n 'solar_Fri_Jun_16_10__0__21_2017_L_0.903081697073_I_0.293192156863.jpg',\n 'solar_Fri_Jun_16_10__0__26_2017_L_0.896087391118_I_0.27462745098.jpg',\n 'solar_Fri_Jun_16_10__0__31_2017_L_0.896087391118_I_0.27462745098.jpg',\n 'solar_Fri_Jun_16_10__0__36_2017_L_0.894974574172_I_0.269141176471.jpg',\n 'solar_Fri_Jun_16_10__0__41_2017_L_0.894974574172_I_0.269141176471.jpg',\n 'solar_Fri_Jun_16_10__0__46_2017_L_0.890988502987_I_0.261278431373.jpg',\n 'solar_Fri_Jun_16_10__0__51_2017_L_0.890988502987_I_0.261278431373.jpg']"
     },
     "execution_count": 2,
     "metadata": {},
     "output_type": "execute_result"
    }
   ],
   "source": [
    "# folder path\n",
    "data_folder = 'SolarPanelSoilingImageDataset\\Solar_Panel_Soiling_Image_dataset\\PanelImages_originaldata/'\n",
    "\n",
    "files = os.listdir(data_folder)\n",
    "\n",
    "files[0:10]\n"
   ],
   "metadata": {
    "collapsed": false,
    "ExecuteTime": {
     "end_time": "2023-11-20T16:50:40.458806500Z",
     "start_time": "2023-11-20T16:50:40.327224600Z"
    }
   }
  },
  {
   "cell_type": "markdown",
   "source": [
    "### Preprocessing\n",
    "\n",
    "#### Breaking down string into time component columns\n"
   ],
   "metadata": {
    "collapsed": false
   }
  },
  {
   "cell_type": "code",
   "execution_count": 5,
   "outputs": [],
   "source": [
    "examples = []\n",
    "for file in files:\n",
    "    parts = file.split('_')\n",
    "    solar_data = {\n",
    "        'type': parts[0], # 'solar'\n",
    "        'day_of_week': parts[1], # day of the week\n",
    "        'month': parts[2],\n",
    "        'day': parts[3], # day\n",
    "        'hour': parts[4], # hout\n",
    "        'minute': parts[6], # minute\n",
    "        'second': parts[8], # second\n",
    "        'year': parts[9], # 'year'\n",
    "        'loss_percentage': parts[11], # 'ageloss' with 'L%' removed\n",
    "        'irradiance_level': parts[13][0:-4], # 'irradiancelevel' with 'I' removed\n",
    "        'original_title': file,\n",
    "    }\n",
    "    examples.append(solar_data)\n",
    "\n",
    "df = pd.DataFrame(examples)\n"
   ],
   "metadata": {
    "collapsed": false,
    "ExecuteTime": {
     "end_time": "2023-11-20T16:51:45.552013Z",
     "start_time": "2023-11-20T16:51:45.408171900Z"
    }
   }
  },
  {
   "cell_type": "code",
   "execution_count": 6,
   "outputs": [
    {
     "data": {
      "text/plain": "        type day_of_week month day hour minute second  year  loss_percentage  \\\n0      solar         Fri   Jun  16   10      0     11  2017   0.906153208302   \n1      solar         Fri   Jun  16   10      0     16  2017   0.903081697073   \n2      solar         Fri   Jun  16   10      0      1  2017   0.916698044034   \n3      solar         Fri   Jun  16   10      0     21  2017   0.903081697073   \n4      solar         Fri   Jun  16   10      0     26  2017   0.896087391118   \n...      ...         ...   ...  ..  ...    ...    ...   ...              ...   \n45749  solar         Wed   Jun  28    7      9     44  2017  0.0067850003029   \n45750  solar         Wed   Jun  28    7      9     49  2017  0.0067850003029   \n45751  solar         Wed   Jun  28    7      9     54  2017  0.0210669184468   \n45752  solar         Wed   Jun  28    7      9     59  2017  0.0210669184468   \n45753  solar         Wed   Jun  28    7      9      8  2017  0.0227286802502   \n\n      irradiance_level                                     original_title  \n0       0.321592156863  solar_Fri_Jun_16_10__0__11_2017_L_0.9061532083...  \n1       0.293192156863  solar_Fri_Jun_16_10__0__16_2017_L_0.9030816970...  \n2        0.39577254902  solar_Fri_Jun_16_10__0__1_2017_L_0.91669804403...  \n3       0.293192156863  solar_Fri_Jun_16_10__0__21_2017_L_0.9030816970...  \n4        0.27462745098  solar_Fri_Jun_16_10__0__26_2017_L_0.8960873911...  \n...                ...                                                ...  \n45749  0.0647333333333  solar_Wed_Jun_28_7__9__44_2017_L_0.00678500030...  \n45750  0.0647333333333  solar_Wed_Jun_28_7__9__49_2017_L_0.00678500030...  \n45751  0.0664549019608  solar_Wed_Jun_28_7__9__54_2017_L_0.02106691844...  \n45752  0.0664549019608  solar_Wed_Jun_28_7__9__59_2017_L_0.02106691844...  \n45753  0.0633215686275  solar_Wed_Jun_28_7__9__8_2017_L_0.022728680250...  \n\n[45754 rows x 11 columns]",
      "text/html": "<div>\n<style scoped>\n    .dataframe tbody tr th:only-of-type {\n        vertical-align: middle;\n    }\n\n    .dataframe tbody tr th {\n        vertical-align: top;\n    }\n\n    .dataframe thead th {\n        text-align: right;\n    }\n</style>\n<table border=\"1\" class=\"dataframe\">\n  <thead>\n    <tr style=\"text-align: right;\">\n      <th></th>\n      <th>type</th>\n      <th>day_of_week</th>\n      <th>month</th>\n      <th>day</th>\n      <th>hour</th>\n      <th>minute</th>\n      <th>second</th>\n      <th>year</th>\n      <th>loss_percentage</th>\n      <th>irradiance_level</th>\n      <th>original_title</th>\n    </tr>\n  </thead>\n  <tbody>\n    <tr>\n      <th>0</th>\n      <td>solar</td>\n      <td>Fri</td>\n      <td>Jun</td>\n      <td>16</td>\n      <td>10</td>\n      <td>0</td>\n      <td>11</td>\n      <td>2017</td>\n      <td>0.906153208302</td>\n      <td>0.321592156863</td>\n      <td>solar_Fri_Jun_16_10__0__11_2017_L_0.9061532083...</td>\n    </tr>\n    <tr>\n      <th>1</th>\n      <td>solar</td>\n      <td>Fri</td>\n      <td>Jun</td>\n      <td>16</td>\n      <td>10</td>\n      <td>0</td>\n      <td>16</td>\n      <td>2017</td>\n      <td>0.903081697073</td>\n      <td>0.293192156863</td>\n      <td>solar_Fri_Jun_16_10__0__16_2017_L_0.9030816970...</td>\n    </tr>\n    <tr>\n      <th>2</th>\n      <td>solar</td>\n      <td>Fri</td>\n      <td>Jun</td>\n      <td>16</td>\n      <td>10</td>\n      <td>0</td>\n      <td>1</td>\n      <td>2017</td>\n      <td>0.916698044034</td>\n      <td>0.39577254902</td>\n      <td>solar_Fri_Jun_16_10__0__1_2017_L_0.91669804403...</td>\n    </tr>\n    <tr>\n      <th>3</th>\n      <td>solar</td>\n      <td>Fri</td>\n      <td>Jun</td>\n      <td>16</td>\n      <td>10</td>\n      <td>0</td>\n      <td>21</td>\n      <td>2017</td>\n      <td>0.903081697073</td>\n      <td>0.293192156863</td>\n      <td>solar_Fri_Jun_16_10__0__21_2017_L_0.9030816970...</td>\n    </tr>\n    <tr>\n      <th>4</th>\n      <td>solar</td>\n      <td>Fri</td>\n      <td>Jun</td>\n      <td>16</td>\n      <td>10</td>\n      <td>0</td>\n      <td>26</td>\n      <td>2017</td>\n      <td>0.896087391118</td>\n      <td>0.27462745098</td>\n      <td>solar_Fri_Jun_16_10__0__26_2017_L_0.8960873911...</td>\n    </tr>\n    <tr>\n      <th>...</th>\n      <td>...</td>\n      <td>...</td>\n      <td>...</td>\n      <td>...</td>\n      <td>...</td>\n      <td>...</td>\n      <td>...</td>\n      <td>...</td>\n      <td>...</td>\n      <td>...</td>\n      <td>...</td>\n    </tr>\n    <tr>\n      <th>45749</th>\n      <td>solar</td>\n      <td>Wed</td>\n      <td>Jun</td>\n      <td>28</td>\n      <td>7</td>\n      <td>9</td>\n      <td>44</td>\n      <td>2017</td>\n      <td>0.0067850003029</td>\n      <td>0.0647333333333</td>\n      <td>solar_Wed_Jun_28_7__9__44_2017_L_0.00678500030...</td>\n    </tr>\n    <tr>\n      <th>45750</th>\n      <td>solar</td>\n      <td>Wed</td>\n      <td>Jun</td>\n      <td>28</td>\n      <td>7</td>\n      <td>9</td>\n      <td>49</td>\n      <td>2017</td>\n      <td>0.0067850003029</td>\n      <td>0.0647333333333</td>\n      <td>solar_Wed_Jun_28_7__9__49_2017_L_0.00678500030...</td>\n    </tr>\n    <tr>\n      <th>45751</th>\n      <td>solar</td>\n      <td>Wed</td>\n      <td>Jun</td>\n      <td>28</td>\n      <td>7</td>\n      <td>9</td>\n      <td>54</td>\n      <td>2017</td>\n      <td>0.0210669184468</td>\n      <td>0.0664549019608</td>\n      <td>solar_Wed_Jun_28_7__9__54_2017_L_0.02106691844...</td>\n    </tr>\n    <tr>\n      <th>45752</th>\n      <td>solar</td>\n      <td>Wed</td>\n      <td>Jun</td>\n      <td>28</td>\n      <td>7</td>\n      <td>9</td>\n      <td>59</td>\n      <td>2017</td>\n      <td>0.0210669184468</td>\n      <td>0.0664549019608</td>\n      <td>solar_Wed_Jun_28_7__9__59_2017_L_0.02106691844...</td>\n    </tr>\n    <tr>\n      <th>45753</th>\n      <td>solar</td>\n      <td>Wed</td>\n      <td>Jun</td>\n      <td>28</td>\n      <td>7</td>\n      <td>9</td>\n      <td>8</td>\n      <td>2017</td>\n      <td>0.0227286802502</td>\n      <td>0.0633215686275</td>\n      <td>solar_Wed_Jun_28_7__9__8_2017_L_0.022728680250...</td>\n    </tr>\n  </tbody>\n</table>\n<p>45754 rows × 11 columns</p>\n</div>"
     },
     "execution_count": 6,
     "metadata": {},
     "output_type": "execute_result"
    }
   ],
   "source": [
    "df"
   ],
   "metadata": {
    "collapsed": false,
    "ExecuteTime": {
     "end_time": "2023-11-20T16:51:46.145607600Z",
     "start_time": "2023-11-20T16:51:46.136115100Z"
    }
   }
  },
  {
   "cell_type": "markdown",
   "source": [
    "#### Drop unnecessary Columns"
   ],
   "metadata": {
    "collapsed": false
   }
  },
  {
   "cell_type": "code",
   "execution_count": 8,
   "outputs": [],
   "source": [
    "# List of columns to drop\n",
    "columns_to_drop = ['type', 'day_of_week']\n",
    "\n",
    "# Dropping the specified columns\n",
    "df = df.drop(columns=columns_to_drop)"
   ],
   "metadata": {
    "collapsed": false,
    "ExecuteTime": {
     "end_time": "2023-11-20T16:53:56.163953400Z",
     "start_time": "2023-11-20T16:53:56.116139500Z"
    }
   }
  },
  {
   "cell_type": "markdown",
   "source": [
    "#### Month Mapping"
   ],
   "metadata": {
    "collapsed": false
   }
  },
  {
   "cell_type": "code",
   "execution_count": 12,
   "outputs": [],
   "source": [
    "# Month name to numerical mapping\n",
    "month_mapping = {\n",
    "    'Jan': 1, 'Feb': 2, 'Mar': 3, 'Apr': 4,\n",
    "    'May': 5, 'Jun': 6, 'Jul': 7, 'Aug': 8,\n",
    "    'Sep': 9, 'Oct': 10, 'Nov': 11, 'Dec': 12\n",
    "}\n",
    "\n",
    "df['month'] = df['month'].map(month_mapping)\n"
   ],
   "metadata": {
    "collapsed": false,
    "ExecuteTime": {
     "end_time": "2023-11-20T16:55:17.244582900Z",
     "start_time": "2023-11-20T16:55:17.198299100Z"
    }
   }
  },
  {
   "cell_type": "markdown",
   "source": [
    "#### Convert dtypes to numeric"
   ],
   "metadata": {
    "collapsed": false
   }
  },
  {
   "cell_type": "code",
   "execution_count": 17,
   "outputs": [],
   "source": [
    "columns_to_convert = ['day', 'hour', 'minute', 'second', 'year', 'loss_percentage', 'irradiance_level']\n",
    "\n",
    "# Loop through each column and convert to numeric\n",
    "for column in columns_to_convert:\n",
    "    df[column] = pd.to_numeric(df[column], errors='coerce')\n"
   ],
   "metadata": {
    "collapsed": false,
    "ExecuteTime": {
     "end_time": "2023-11-20T16:57:42.635825700Z",
     "start_time": "2023-11-20T16:57:42.421386200Z"
    }
   }
  },
  {
   "cell_type": "markdown",
   "source": [
    "#### Ordering the dataframe per timestamp"
   ],
   "metadata": {
    "collapsed": false
   }
  },
  {
   "cell_type": "code",
   "execution_count": 28,
   "outputs": [],
   "source": [
    "df['timestamp'] = pd.to_datetime(df[['year', 'month', 'day', 'hour', 'minute', 'second']])\n",
    "\n",
    "df = df.sort_values(by='timestamp')\n",
    "\n",
    "df = df.reset_index(drop=True)\n"
   ],
   "metadata": {
    "collapsed": false,
    "ExecuteTime": {
     "end_time": "2023-11-20T17:09:08.613240900Z",
     "start_time": "2023-11-20T17:09:08.581125800Z"
    }
   }
  },
  {
   "cell_type": "code",
   "execution_count": 29,
   "outputs": [
    {
     "data": {
      "text/plain": "       month  day  hour  minute  second  year  loss_percentage  \\\n0          6   13     9      46      49  2017         0.047484   \n1          6   13     9      46      54  2017         0.027331   \n2          6   13     9      46      59  2017         0.027331   \n3          6   13     9      47       4  2017         0.039799   \n4          6   13     9      47       9  2017         0.039799   \n...      ...  ...   ...     ...     ...   ...              ...   \n45749      6   30    15      53      27  2017         0.567408   \n45750      6   30    15      53      32  2017         0.567408   \n45751      6   30    15      54       7  2017         0.565741   \n45752      6   30    15      54      12  2017         0.565741   \n45753      6   30    15      58       0  2017         0.541427   \n\n       irradiance_level                                     original_title  \\\n0              0.296733  solar_Tue_Jun_13_9__46__49_2017_L_0.0474843723...   \n1              0.288831  solar_Tue_Jun_13_9__46__54_2017_L_0.0273312333...   \n2              0.288831  solar_Tue_Jun_13_9__46__59_2017_L_0.0273312333...   \n3              0.300631  solar_Tue_Jun_13_9__47__4_2017_L_0.03979859380...   \n4              0.300631  solar_Tue_Jun_13_9__47__9_2017_L_0.03979859380...   \n...                 ...                                                ...   \n45749          0.243176  solar_Fri_Jun_30_15__53__27_2017_L_0.567408482...   \n45750          0.243176  solar_Fri_Jun_30_15__53__32_2017_L_0.567408482...   \n45751          0.291667  solar_Fri_Jun_30_15__54__7_2017_L_0.5657411764...   \n45752          0.291667  solar_Fri_Jun_30_15__54__12_2017_L_0.565741176...   \n45753          0.317404  solar_Fri_Jun_30_15__58__0_2017_L_0.5414267711...   \n\n                timestamp  \n0     2017-06-13 09:46:49  \n1     2017-06-13 09:46:54  \n2     2017-06-13 09:46:59  \n3     2017-06-13 09:47:04  \n4     2017-06-13 09:47:09  \n...                   ...  \n45749 2017-06-30 15:53:27  \n45750 2017-06-30 15:53:32  \n45751 2017-06-30 15:54:07  \n45752 2017-06-30 15:54:12  \n45753 2017-06-30 15:58:00  \n\n[45754 rows x 10 columns]",
      "text/html": "<div>\n<style scoped>\n    .dataframe tbody tr th:only-of-type {\n        vertical-align: middle;\n    }\n\n    .dataframe tbody tr th {\n        vertical-align: top;\n    }\n\n    .dataframe thead th {\n        text-align: right;\n    }\n</style>\n<table border=\"1\" class=\"dataframe\">\n  <thead>\n    <tr style=\"text-align: right;\">\n      <th></th>\n      <th>month</th>\n      <th>day</th>\n      <th>hour</th>\n      <th>minute</th>\n      <th>second</th>\n      <th>year</th>\n      <th>loss_percentage</th>\n      <th>irradiance_level</th>\n      <th>original_title</th>\n      <th>timestamp</th>\n    </tr>\n  </thead>\n  <tbody>\n    <tr>\n      <th>0</th>\n      <td>6</td>\n      <td>13</td>\n      <td>9</td>\n      <td>46</td>\n      <td>49</td>\n      <td>2017</td>\n      <td>0.047484</td>\n      <td>0.296733</td>\n      <td>solar_Tue_Jun_13_9__46__49_2017_L_0.0474843723...</td>\n      <td>2017-06-13 09:46:49</td>\n    </tr>\n    <tr>\n      <th>1</th>\n      <td>6</td>\n      <td>13</td>\n      <td>9</td>\n      <td>46</td>\n      <td>54</td>\n      <td>2017</td>\n      <td>0.027331</td>\n      <td>0.288831</td>\n      <td>solar_Tue_Jun_13_9__46__54_2017_L_0.0273312333...</td>\n      <td>2017-06-13 09:46:54</td>\n    </tr>\n    <tr>\n      <th>2</th>\n      <td>6</td>\n      <td>13</td>\n      <td>9</td>\n      <td>46</td>\n      <td>59</td>\n      <td>2017</td>\n      <td>0.027331</td>\n      <td>0.288831</td>\n      <td>solar_Tue_Jun_13_9__46__59_2017_L_0.0273312333...</td>\n      <td>2017-06-13 09:46:59</td>\n    </tr>\n    <tr>\n      <th>3</th>\n      <td>6</td>\n      <td>13</td>\n      <td>9</td>\n      <td>47</td>\n      <td>4</td>\n      <td>2017</td>\n      <td>0.039799</td>\n      <td>0.300631</td>\n      <td>solar_Tue_Jun_13_9__47__4_2017_L_0.03979859380...</td>\n      <td>2017-06-13 09:47:04</td>\n    </tr>\n    <tr>\n      <th>4</th>\n      <td>6</td>\n      <td>13</td>\n      <td>9</td>\n      <td>47</td>\n      <td>9</td>\n      <td>2017</td>\n      <td>0.039799</td>\n      <td>0.300631</td>\n      <td>solar_Tue_Jun_13_9__47__9_2017_L_0.03979859380...</td>\n      <td>2017-06-13 09:47:09</td>\n    </tr>\n    <tr>\n      <th>...</th>\n      <td>...</td>\n      <td>...</td>\n      <td>...</td>\n      <td>...</td>\n      <td>...</td>\n      <td>...</td>\n      <td>...</td>\n      <td>...</td>\n      <td>...</td>\n      <td>...</td>\n    </tr>\n    <tr>\n      <th>45749</th>\n      <td>6</td>\n      <td>30</td>\n      <td>15</td>\n      <td>53</td>\n      <td>27</td>\n      <td>2017</td>\n      <td>0.567408</td>\n      <td>0.243176</td>\n      <td>solar_Fri_Jun_30_15__53__27_2017_L_0.567408482...</td>\n      <td>2017-06-30 15:53:27</td>\n    </tr>\n    <tr>\n      <th>45750</th>\n      <td>6</td>\n      <td>30</td>\n      <td>15</td>\n      <td>53</td>\n      <td>32</td>\n      <td>2017</td>\n      <td>0.567408</td>\n      <td>0.243176</td>\n      <td>solar_Fri_Jun_30_15__53__32_2017_L_0.567408482...</td>\n      <td>2017-06-30 15:53:32</td>\n    </tr>\n    <tr>\n      <th>45751</th>\n      <td>6</td>\n      <td>30</td>\n      <td>15</td>\n      <td>54</td>\n      <td>7</td>\n      <td>2017</td>\n      <td>0.565741</td>\n      <td>0.291667</td>\n      <td>solar_Fri_Jun_30_15__54__7_2017_L_0.5657411764...</td>\n      <td>2017-06-30 15:54:07</td>\n    </tr>\n    <tr>\n      <th>45752</th>\n      <td>6</td>\n      <td>30</td>\n      <td>15</td>\n      <td>54</td>\n      <td>12</td>\n      <td>2017</td>\n      <td>0.565741</td>\n      <td>0.291667</td>\n      <td>solar_Fri_Jun_30_15__54__12_2017_L_0.565741176...</td>\n      <td>2017-06-30 15:54:12</td>\n    </tr>\n    <tr>\n      <th>45753</th>\n      <td>6</td>\n      <td>30</td>\n      <td>15</td>\n      <td>58</td>\n      <td>0</td>\n      <td>2017</td>\n      <td>0.541427</td>\n      <td>0.317404</td>\n      <td>solar_Fri_Jun_30_15__58__0_2017_L_0.5414267711...</td>\n      <td>2017-06-30 15:58:00</td>\n    </tr>\n  </tbody>\n</table>\n<p>45754 rows × 10 columns</p>\n</div>"
     },
     "execution_count": 29,
     "metadata": {},
     "output_type": "execute_result"
    }
   ],
   "source": [
    "df"
   ],
   "metadata": {
    "collapsed": false,
    "ExecuteTime": {
     "end_time": "2023-11-20T17:09:09.155453900Z",
     "start_time": "2023-11-20T17:09:09.116433300Z"
    }
   }
  },
  {
   "cell_type": "code",
   "execution_count": 30,
   "outputs": [
    {
     "data": {
      "text/plain": "       month  day  hour  minute  second  year  loss_percentage  \\\n0          6   13     9      46      49  2017         0.047484   \n5          6   13     9      47      54  2017         0.021836   \n12         6   13     9      49      36  2017         0.449538   \n19         6   13     9      51      32  2017         0.061690   \n21         6   13     9      52       2  2017         0.322995   \n...      ...  ...   ...     ...     ...   ...              ...   \n45593      6   30    15      20      46  2017         0.566062   \n45605      6   30    15      22      17  2017         0.557589   \n45745      6   30    15      53       7  2017         0.559479   \n45751      6   30    15      54       7  2017         0.565741   \n45753      6   30    15      58       0  2017         0.541427   \n\n       irradiance_level                                     original_title  \\\n0              0.296733  solar_Tue_Jun_13_9__46__49_2017_L_0.0474843723...   \n5              0.613851  solar_Tue_Jun_13_9__47__54_2017_L_0.0218357907...   \n12             0.652835  solar_Tue_Jun_13_9__49__36_2017_L_0.4495383635...   \n19             0.376580  solar_Tue_Jun_13_9__51__32_2017_L_0.0616903403...   \n21             0.432800  solar_Tue_Jun_13_9__52__2_2017_L_0.32299481715...   \n...                 ...                                                ...   \n45593          0.305953  solar_Fri_Jun_30_15__20__46_2017_L_0.566061678...   \n45605          0.295945  solar_Fri_Jun_30_15__22__17_2017_L_0.557588847...   \n45745          0.226212  solar_Fri_Jun_30_15__53__7_2017_L_0.5594792316...   \n45751          0.291667  solar_Fri_Jun_30_15__54__7_2017_L_0.5657411764...   \n45753          0.317404  solar_Fri_Jun_30_15__58__0_2017_L_0.5414267711...   \n\n                timestamp  \n0     2017-06-13 09:46:49  \n5     2017-06-13 09:47:54  \n12    2017-06-13 09:49:36  \n19    2017-06-13 09:51:32  \n21    2017-06-13 09:52:02  \n...                   ...  \n45593 2017-06-30 15:20:46  \n45605 2017-06-30 15:22:17  \n45745 2017-06-30 15:53:07  \n45751 2017-06-30 15:54:07  \n45753 2017-06-30 15:58:00  \n\n[2156 rows x 10 columns]",
      "text/html": "<div>\n<style scoped>\n    .dataframe tbody tr th:only-of-type {\n        vertical-align: middle;\n    }\n\n    .dataframe tbody tr th {\n        vertical-align: top;\n    }\n\n    .dataframe thead th {\n        text-align: right;\n    }\n</style>\n<table border=\"1\" class=\"dataframe\">\n  <thead>\n    <tr style=\"text-align: right;\">\n      <th></th>\n      <th>month</th>\n      <th>day</th>\n      <th>hour</th>\n      <th>minute</th>\n      <th>second</th>\n      <th>year</th>\n      <th>loss_percentage</th>\n      <th>irradiance_level</th>\n      <th>original_title</th>\n      <th>timestamp</th>\n    </tr>\n  </thead>\n  <tbody>\n    <tr>\n      <th>0</th>\n      <td>6</td>\n      <td>13</td>\n      <td>9</td>\n      <td>46</td>\n      <td>49</td>\n      <td>2017</td>\n      <td>0.047484</td>\n      <td>0.296733</td>\n      <td>solar_Tue_Jun_13_9__46__49_2017_L_0.0474843723...</td>\n      <td>2017-06-13 09:46:49</td>\n    </tr>\n    <tr>\n      <th>5</th>\n      <td>6</td>\n      <td>13</td>\n      <td>9</td>\n      <td>47</td>\n      <td>54</td>\n      <td>2017</td>\n      <td>0.021836</td>\n      <td>0.613851</td>\n      <td>solar_Tue_Jun_13_9__47__54_2017_L_0.0218357907...</td>\n      <td>2017-06-13 09:47:54</td>\n    </tr>\n    <tr>\n      <th>12</th>\n      <td>6</td>\n      <td>13</td>\n      <td>9</td>\n      <td>49</td>\n      <td>36</td>\n      <td>2017</td>\n      <td>0.449538</td>\n      <td>0.652835</td>\n      <td>solar_Tue_Jun_13_9__49__36_2017_L_0.4495383635...</td>\n      <td>2017-06-13 09:49:36</td>\n    </tr>\n    <tr>\n      <th>19</th>\n      <td>6</td>\n      <td>13</td>\n      <td>9</td>\n      <td>51</td>\n      <td>32</td>\n      <td>2017</td>\n      <td>0.061690</td>\n      <td>0.376580</td>\n      <td>solar_Tue_Jun_13_9__51__32_2017_L_0.0616903403...</td>\n      <td>2017-06-13 09:51:32</td>\n    </tr>\n    <tr>\n      <th>21</th>\n      <td>6</td>\n      <td>13</td>\n      <td>9</td>\n      <td>52</td>\n      <td>2</td>\n      <td>2017</td>\n      <td>0.322995</td>\n      <td>0.432800</td>\n      <td>solar_Tue_Jun_13_9__52__2_2017_L_0.32299481715...</td>\n      <td>2017-06-13 09:52:02</td>\n    </tr>\n    <tr>\n      <th>...</th>\n      <td>...</td>\n      <td>...</td>\n      <td>...</td>\n      <td>...</td>\n      <td>...</td>\n      <td>...</td>\n      <td>...</td>\n      <td>...</td>\n      <td>...</td>\n      <td>...</td>\n    </tr>\n    <tr>\n      <th>45593</th>\n      <td>6</td>\n      <td>30</td>\n      <td>15</td>\n      <td>20</td>\n      <td>46</td>\n      <td>2017</td>\n      <td>0.566062</td>\n      <td>0.305953</td>\n      <td>solar_Fri_Jun_30_15__20__46_2017_L_0.566061678...</td>\n      <td>2017-06-30 15:20:46</td>\n    </tr>\n    <tr>\n      <th>45605</th>\n      <td>6</td>\n      <td>30</td>\n      <td>15</td>\n      <td>22</td>\n      <td>17</td>\n      <td>2017</td>\n      <td>0.557589</td>\n      <td>0.295945</td>\n      <td>solar_Fri_Jun_30_15__22__17_2017_L_0.557588847...</td>\n      <td>2017-06-30 15:22:17</td>\n    </tr>\n    <tr>\n      <th>45745</th>\n      <td>6</td>\n      <td>30</td>\n      <td>15</td>\n      <td>53</td>\n      <td>7</td>\n      <td>2017</td>\n      <td>0.559479</td>\n      <td>0.226212</td>\n      <td>solar_Fri_Jun_30_15__53__7_2017_L_0.5594792316...</td>\n      <td>2017-06-30 15:53:07</td>\n    </tr>\n    <tr>\n      <th>45751</th>\n      <td>6</td>\n      <td>30</td>\n      <td>15</td>\n      <td>54</td>\n      <td>7</td>\n      <td>2017</td>\n      <td>0.565741</td>\n      <td>0.291667</td>\n      <td>solar_Fri_Jun_30_15__54__7_2017_L_0.5657411764...</td>\n      <td>2017-06-30 15:54:07</td>\n    </tr>\n    <tr>\n      <th>45753</th>\n      <td>6</td>\n      <td>30</td>\n      <td>15</td>\n      <td>58</td>\n      <td>0</td>\n      <td>2017</td>\n      <td>0.541427</td>\n      <td>0.317404</td>\n      <td>solar_Fri_Jun_30_15__58__0_2017_L_0.5414267711...</td>\n      <td>2017-06-30 15:58:00</td>\n    </tr>\n  </tbody>\n</table>\n<p>2156 rows × 10 columns</p>\n</div>"
     },
     "execution_count": 30,
     "metadata": {},
     "output_type": "execute_result"
    }
   ],
   "source": [
    "# Create a clone (copy) of the dataset\n",
    "df_copy = df.copy()\n",
    "\n",
    "# Calculate the time difference between consecutive rows\n",
    "df_copy['time_diff'] = df_copy['timestamp'].diff()\n",
    "\n",
    "# Filter rows based on the 20-second range or date change condition\n",
    "filtered_df = df_copy[(df_copy['time_diff'].dt.total_seconds() > 20) |\n",
    "                      (df_copy['timestamp'].dt.date != df_copy['timestamp'].shift().dt.date) |\n",
    "                      df_copy['time_diff'].isna()]\n",
    "\n",
    "# Drop unnecessary columns\n",
    "filtered_df = filtered_df.drop(['time_diff'], axis=1)\n",
    "\n",
    "# Reset index if needed\n",
    "#filtered_df = filtered_df.reset_index(drop=True)\n",
    "\n",
    "filtered_df\n"
   ],
   "metadata": {
    "collapsed": false,
    "ExecuteTime": {
     "end_time": "2023-11-20T17:09:14.532863900Z",
     "start_time": "2023-11-20T17:09:14.482235600Z"
    }
   }
  },
  {
   "cell_type": "code",
   "execution_count": 32,
   "outputs": [
    {
     "data": {
      "text/plain": "       month  day  hour  minute  second  year  loss_percentage  \\\n0          6   13     9      46      49  2017         0.047484   \n5          6   13     9      47      54  2017         0.021836   \n8          6   13     9      48      20  2017         0.142282   \n11         6   13     9      48      50  2017         0.082342   \n12         6   13     9      49      36  2017         0.449538   \n...      ...  ...   ...     ...     ...   ...              ...   \n45740      6   30    15      36      51  2017         0.514036   \n45745      6   30    15      53       7  2017         0.559479   \n45750      6   30    15      53      32  2017         0.567408   \n45751      6   30    15      54       7  2017         0.565741   \n45753      6   30    15      58       0  2017         0.541427   \n\n       irradiance_level                                     original_title  \n0              0.296733  solar_Tue_Jun_13_9__46__49_2017_L_0.0474843723...  \n5              0.613851  solar_Tue_Jun_13_9__47__54_2017_L_0.0218357907...  \n8              0.620973  solar_Tue_Jun_13_9__48__20_2017_L_0.1422815570...  \n11             0.465396  solar_Tue_Jun_13_9__48__50_2017_L_0.0823418382...  \n12             0.652835  solar_Tue_Jun_13_9__49__36_2017_L_0.4495383635...  \n...                 ...                                                ...  \n45740          0.323675  solar_Fri_Jun_30_15__36__51_2017_L_0.514036129...  \n45745          0.226212  solar_Fri_Jun_30_15__53__7_2017_L_0.5594792316...  \n45750          0.243176  solar_Fri_Jun_30_15__53__32_2017_L_0.567408482...  \n45751          0.291667  solar_Fri_Jun_30_15__54__7_2017_L_0.5657411764...  \n45753          0.317404  solar_Fri_Jun_30_15__58__0_2017_L_0.5414267711...  \n\n[12485 rows x 9 columns]",
      "text/html": "<div>\n<style scoped>\n    .dataframe tbody tr th:only-of-type {\n        vertical-align: middle;\n    }\n\n    .dataframe tbody tr th {\n        vertical-align: top;\n    }\n\n    .dataframe thead th {\n        text-align: right;\n    }\n</style>\n<table border=\"1\" class=\"dataframe\">\n  <thead>\n    <tr style=\"text-align: right;\">\n      <th></th>\n      <th>month</th>\n      <th>day</th>\n      <th>hour</th>\n      <th>minute</th>\n      <th>second</th>\n      <th>year</th>\n      <th>loss_percentage</th>\n      <th>irradiance_level</th>\n      <th>original_title</th>\n    </tr>\n  </thead>\n  <tbody>\n    <tr>\n      <th>0</th>\n      <td>6</td>\n      <td>13</td>\n      <td>9</td>\n      <td>46</td>\n      <td>49</td>\n      <td>2017</td>\n      <td>0.047484</td>\n      <td>0.296733</td>\n      <td>solar_Tue_Jun_13_9__46__49_2017_L_0.0474843723...</td>\n    </tr>\n    <tr>\n      <th>5</th>\n      <td>6</td>\n      <td>13</td>\n      <td>9</td>\n      <td>47</td>\n      <td>54</td>\n      <td>2017</td>\n      <td>0.021836</td>\n      <td>0.613851</td>\n      <td>solar_Tue_Jun_13_9__47__54_2017_L_0.0218357907...</td>\n    </tr>\n    <tr>\n      <th>8</th>\n      <td>6</td>\n      <td>13</td>\n      <td>9</td>\n      <td>48</td>\n      <td>20</td>\n      <td>2017</td>\n      <td>0.142282</td>\n      <td>0.620973</td>\n      <td>solar_Tue_Jun_13_9__48__20_2017_L_0.1422815570...</td>\n    </tr>\n    <tr>\n      <th>11</th>\n      <td>6</td>\n      <td>13</td>\n      <td>9</td>\n      <td>48</td>\n      <td>50</td>\n      <td>2017</td>\n      <td>0.082342</td>\n      <td>0.465396</td>\n      <td>solar_Tue_Jun_13_9__48__50_2017_L_0.0823418382...</td>\n    </tr>\n    <tr>\n      <th>12</th>\n      <td>6</td>\n      <td>13</td>\n      <td>9</td>\n      <td>49</td>\n      <td>36</td>\n      <td>2017</td>\n      <td>0.449538</td>\n      <td>0.652835</td>\n      <td>solar_Tue_Jun_13_9__49__36_2017_L_0.4495383635...</td>\n    </tr>\n    <tr>\n      <th>...</th>\n      <td>...</td>\n      <td>...</td>\n      <td>...</td>\n      <td>...</td>\n      <td>...</td>\n      <td>...</td>\n      <td>...</td>\n      <td>...</td>\n      <td>...</td>\n    </tr>\n    <tr>\n      <th>45740</th>\n      <td>6</td>\n      <td>30</td>\n      <td>15</td>\n      <td>36</td>\n      <td>51</td>\n      <td>2017</td>\n      <td>0.514036</td>\n      <td>0.323675</td>\n      <td>solar_Fri_Jun_30_15__36__51_2017_L_0.514036129...</td>\n    </tr>\n    <tr>\n      <th>45745</th>\n      <td>6</td>\n      <td>30</td>\n      <td>15</td>\n      <td>53</td>\n      <td>7</td>\n      <td>2017</td>\n      <td>0.559479</td>\n      <td>0.226212</td>\n      <td>solar_Fri_Jun_30_15__53__7_2017_L_0.5594792316...</td>\n    </tr>\n    <tr>\n      <th>45750</th>\n      <td>6</td>\n      <td>30</td>\n      <td>15</td>\n      <td>53</td>\n      <td>32</td>\n      <td>2017</td>\n      <td>0.567408</td>\n      <td>0.243176</td>\n      <td>solar_Fri_Jun_30_15__53__32_2017_L_0.567408482...</td>\n    </tr>\n    <tr>\n      <th>45751</th>\n      <td>6</td>\n      <td>30</td>\n      <td>15</td>\n      <td>54</td>\n      <td>7</td>\n      <td>2017</td>\n      <td>0.565741</td>\n      <td>0.291667</td>\n      <td>solar_Fri_Jun_30_15__54__7_2017_L_0.5657411764...</td>\n    </tr>\n    <tr>\n      <th>45753</th>\n      <td>6</td>\n      <td>30</td>\n      <td>15</td>\n      <td>58</td>\n      <td>0</td>\n      <td>2017</td>\n      <td>0.541427</td>\n      <td>0.317404</td>\n      <td>solar_Fri_Jun_30_15__58__0_2017_L_0.5414267711...</td>\n    </tr>\n  </tbody>\n</table>\n<p>12485 rows × 9 columns</p>\n</div>"
     },
     "execution_count": 32,
     "metadata": {},
     "output_type": "execute_result"
    }
   ],
   "source": [
    "\n",
    "df_copy = df.copy()\n",
    "\n",
    "\n",
    "# Initialize a list to store the indices to keep\n",
    "indices_to_keep = [df.index[0]]\n",
    "\n",
    "# Iterate through the DataFrame and keep rows that are more than 20 seconds apart\n",
    "for i in range(1, len(df)):\n",
    "    time_difference = (df['timestamp'].iloc[i] - df['timestamp'].iloc[indices_to_keep[-1]]).seconds\n",
    "    if time_difference > 20:\n",
    "        indices_to_keep.append(i)\n",
    "\n",
    "# Filter the DataFrame based on the selected indices\n",
    "filtered_df = df.loc[indices_to_keep]\n",
    "\n",
    "# Drop the timestamp column if you don't need it in the final result\n",
    "filtered_df = filtered_df.drop(columns='timestamp')\n",
    "\n",
    "# Print the result\n",
    "filtered_df"
   ],
   "metadata": {
    "collapsed": false,
    "ExecuteTime": {
     "end_time": "2023-11-20T17:39:32.481455300Z",
     "start_time": "2023-11-20T17:39:31.181415300Z"
    }
   }
  },
  {
   "cell_type": "code",
   "execution_count": null,
   "outputs": [],
   "source": [],
   "metadata": {
    "collapsed": false
   }
  }
 ],
 "metadata": {
  "kernelspec": {
   "display_name": "Python 3",
   "language": "python",
   "name": "python3"
  },
  "language_info": {
   "codemirror_mode": {
    "name": "ipython",
    "version": 2
   },
   "file_extension": ".py",
   "mimetype": "text/x-python",
   "name": "python",
   "nbconvert_exporter": "python",
   "pygments_lexer": "ipython2",
   "version": "2.7.6"
  }
 },
 "nbformat": 4,
 "nbformat_minor": 0
}
